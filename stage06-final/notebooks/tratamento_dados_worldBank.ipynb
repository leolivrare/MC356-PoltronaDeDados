{
 "cells": [
  {
   "cell_type": "code",
   "execution_count": 18,
   "metadata": {},
   "outputs": [],
   "source": [
    "import pandas as pd\n",
    "import numpy as np"
   ]
  },
  {
   "cell_type": "markdown",
   "metadata": {},
   "source": [
    "# Organizando a tabela"
   ]
  },
  {
   "cell_type": "code",
   "execution_count": 19,
   "metadata": {},
   "outputs": [],
   "source": [
    "df_total = pd.read_csv(\"../data/raw/world_development_indicators.csv\")\n",
    "df_total17 = df_total[[\"CountryName\", \"CountryCode\", \"SeriesCode\", \"Y2017\"]]\n",
    "df_total17 = df_total17[df_total17[\"CountryName\"].notnull()]"
   ]
  },
  {
   "cell_type": "code",
   "execution_count": 20,
   "metadata": {},
   "outputs": [],
   "source": [
    "def pivot_table(columns, index, values, df):\n",
    "    df_pivot = pd.pivot(df, columns=columns, index=index, values = values)\n",
    "    df_pivot.reset_index(inplace=True)\n",
    "    df_new = pd.DataFrame()\n",
    "    for i in df_pivot:\n",
    "        if type(i) == str:\n",
    "            df_new[i] = df_pivot[i]\n",
    "    return df_new"
   ]
  },
  {
   "cell_type": "markdown",
   "metadata": {},
   "source": [
    "## Tabela de Indicadores e seus códigos"
   ]
  },
  {
   "cell_type": "code",
   "execution_count": 21,
   "metadata": {},
   "outputs": [],
   "source": [
    "df_ind = df_total[[\"SeriesCode\", \"SeriesName\"]]\n",
    "df_ind.to_csv(\"../data/interim/indicadores.csv\", index=False)"
   ]
  },
  {
   "cell_type": "markdown",
   "metadata": {},
   "source": [
    "## Tabela 2017"
   ]
  },
  {
   "cell_type": "code",
   "execution_count": 23,
   "metadata": {},
   "outputs": [],
   "source": [
    "df_pivot17 = pivot_table(\"SeriesCode\", [\"CountryName\", \"CountryCode\"], \"Y2017\", df_total17)\n",
    "new_columns = []\n",
    "for i in df_pivot17.columns:\n",
    "  new_columns.append(i.replace(\".\", \"\"))\n",
    "df_pivot17.columns = new_columns\n",
    "df_pivot17.to_csv(\"../data/interim/total_2017.csv\", index=False)"
   ]
  },
  {
   "cell_type": "markdown",
   "metadata": {},
   "source": [
    "## Tabela 2018"
   ]
  },
  {
   "cell_type": "code",
   "execution_count": 24,
   "metadata": {},
   "outputs": [],
   "source": [
    "df_total18 = df_total[[\"CountryName\", \"CountryCode\", \"SeriesCode\", \"Y2018\"]]\n",
    "df_total18 = df_total18[df_total18[\"CountryName\"].notnull()]\n",
    "df_pivot18 = pivot_table(\"SeriesCode\", [\"CountryName\", \"CountryCode\"], \"Y2018\", df_total18)\n",
    "\n",
    "\n",
    "new_columns = []\n",
    "for i in df_pivot18.columns:\n",
    "  new_columns.append(i.replace(\".\", \"\"))\n",
    "df_pivot18.columns = new_columns\n",
    "\n",
    "df_pivot18.to_csv(\"../data/interim/total_2018.csv\", index=False)"
   ]
  },
  {
   "cell_type": "markdown",
   "metadata": {},
   "source": [
    "## Tabela 2019"
   ]
  },
  {
   "cell_type": "code",
   "execution_count": 25,
   "metadata": {},
   "outputs": [],
   "source": [
    "df_total19 = df_total[[\"CountryName\", \"CountryCode\", \"SeriesCode\", \"Y2019\"]]\n",
    "df_total19 = df_total19[df_total19[\"CountryName\"].notnull()]\n",
    "df_pivot19 = pivot_table(\"SeriesCode\", [\"CountryName\", \"CountryCode\"], \"Y2019\", df_total19)\n",
    "\n",
    "new_columns = []\n",
    "for i in df_pivot19.columns:\n",
    "  new_columns.append(i.replace(\".\", \"\"))\n",
    "df_pivot19.columns = new_columns\n",
    "\n",
    "df_pivot19.to_csv(\"../data/interim/total_2019.csv\", index=False)"
   ]
  },
  {
   "cell_type": "markdown",
   "metadata": {},
   "source": [
    "### Health"
   ]
  },
  {
   "cell_type": "code",
   "execution_count": 26,
   "metadata": {},
   "outputs": [],
   "source": [
    "def health_tables(df_pivot, year):\n",
    "    df_health = df_pivot[[\"CountryCode\", \"SHMEDCMHWP3\", \"SHXPDCHEXGDZS\", \"SHXPDCHEXPCCD\", \"SHMEDBEDSZS\", \"SHMEDNUMWP3\"]]\n",
    "    for i in df_health.columns:\n",
    "        df_health[i] = df_health[i].apply(lambda x: x.replace(\"..\", \"\") if type(x) == str else x)\n",
    "    df_health.columns = [\"country_code\",\n",
    "      \"health_workers\",\n",
    "      \"health_expenditure\",\n",
    "      \"health_expenditure_per_capita\",\n",
    "      \"hospital_beds\",\n",
    "      \"nurses_and_midwives\"]\n",
    "    df_health = df_health[df_health[\"country_code\"].notnull()]\n",
    "    df_health.to_csv(f\"../data/processed/health_{year}.csv\", index=False)\n",
    "    return df_health"
   ]
  },
  {
   "cell_type": "markdown",
   "metadata": {},
   "source": [
    "### Education"
   ]
  },
  {
   "cell_type": "code",
   "execution_count": 27,
   "metadata": {},
   "outputs": [],
   "source": [
    "def education_tables(df_pivot, year):\n",
    "    df_education = df_pivot[[\"CountryCode\", \"GBXPDRSDVGDZS\", \"IPJRNARTCSC\"]]\n",
    "    for i in df_education.columns:\n",
    "        df_education[i] = df_education[i].apply(lambda x: x.replace(\"..\", \"\") if type(x) == str else x)\n",
    "    df_education.columns = [\"country_code\",\n",
    "      \"research_and_development_expenditure\",\n",
    "      \"scientific_and_technical_journal_articles\"]\n",
    "    df_education.to_csv(f\"../data/processed/education_{year}.csv\", index=False)\n",
    "    return df_education"
   ]
  },
  {
   "cell_type": "markdown",
   "metadata": {},
   "source": [
    "### Economics"
   ]
  },
  {
   "cell_type": "code",
   "execution_count": 28,
   "metadata": {},
   "outputs": [],
   "source": [
    "def economics_tables(df_pivot, year):\n",
    "    df_economics = df_pivot[[\"CountryCode\", \"NYGDPPCAPKN\", \"NYGDPMKTPKN\", \"SIPOVGINI\", \"NYGNPMKTPKN\", \"NYGNPPCAPKN\"]]\n",
    "    for i in df_economics.columns:\n",
    "        df_economics[i] = df_economics[i].apply(lambda x: x.replace(\"..\", \"\") if type(x) == str else x)\n",
    "    df_economics.columns = [\n",
    "      \"country_code\",\n",
    "      \"gdp_per_capita\",\n",
    "      \"gdp\",\n",
    "      \"gini_index\",\n",
    "      \"gni\",\n",
    "      \"gni_per_capita\"]\n",
    "    df_economics.to_csv(f\"../data/processed/economics_{year}.csv\", index=False)\n",
    "    return df_economics"
   ]
  },
  {
   "cell_type": "markdown",
   "metadata": {},
   "source": [
    "### SocioEconomics"
   ]
  },
  {
   "cell_type": "code",
   "execution_count": 29,
   "metadata": {},
   "outputs": [],
   "source": [
    "def socioEconomics_tables(df_pivot, year):\n",
    "    df_socioEconomics = df_pivot[[\"CountryCode\", \"SIDST10TH10\", \"SIDST50MD\", \"SLUEMTOTLNEZS\"]]\n",
    "    for i in df_socioEconomics.columns:\n",
    "        df_socioEconomics[i] = df_socioEconomics[i].apply(lambda x: x.replace(\"..\", \"\") if type(x) == str else x)\n",
    "    df_socioEconomics.columns = [\"country_code\",\n",
    "      \"income_share_held_by_highest_10_percent\",\n",
    "      \"people_living_below_50_percent_of\",\n",
    "      \"unemployment\"]\n",
    "    df_socioEconomics.to_csv(f\"../data/processed/socioEconomics_{year}.csv\", index=False)\n",
    "    return df_socioEconomics"
   ]
  },
  {
   "cell_type": "markdown",
   "metadata": {},
   "source": [
    "### Geographics"
   ]
  },
  {
   "cell_type": "code",
   "execution_count": 30,
   "metadata": {},
   "outputs": [],
   "source": [
    "def geographics_tables(df_pivot, year):\n",
    "    df_geographics = df_pivot[[\"CountryCode\", \"ENURBMCTYTLZS\", \"ENURBMCTY\", \"ENURBLCTYURZS\", \"ENPOPDNST\", \"ENPOPSLUMURZS\", \"SPRURTOTLZS\", \"SPRURTOTLZG\", \"SPURBTOTL\", \"SPURBGROW\", \"SPURBTOTLINZS\"]]\n",
    "    for i in df_geographics.columns:\n",
    "        df_geographics[i] = df_geographics[i].apply(lambda x: x.replace(\"..\", \"\") if type(x) == str else x)\n",
    "    df_geographics.columns = [\"country_code\",\n",
    "      \"pop_urban_agglomerations_of_more_than_1_million_percent\",\n",
    "      \"pop_urban_agglomerations_of_more_than_1_million\",\n",
    "      \"pop_in_the_largest_city\",\n",
    "      \"pop_density\",\n",
    "      \"pop_living_in_slums_percent\",\n",
    "      \"rural_pop_percent\",\n",
    "      \"rural_pop_annual_growth_percent\",\n",
    "      \"urban_population\",\n",
    "      \"urban_population_annual_growth\",\n",
    "      \"urban_population_percent\"]\n",
    "    df_geographics.to_csv(f\"../data/processed/geographics_{year}.csv\", index=False)\n",
    "    return df_geographics"
   ]
  },
  {
   "cell_type": "code",
   "execution_count": 31,
   "metadata": {},
   "outputs": [
    {
     "name": "stderr",
     "output_type": "stream",
     "text": [
      "/srv/conda/envs/notebook/lib/python3.7/site-packages/ipykernel_launcher.py:4: SettingWithCopyWarning: \n",
      "A value is trying to be set on a copy of a slice from a DataFrame.\n",
      "Try using .loc[row_indexer,col_indexer] = value instead\n",
      "\n",
      "See the caveats in the documentation: https://pandas.pydata.org/pandas-docs/stable/user_guide/indexing.html#returning-a-view-versus-a-copy\n",
      "  after removing the cwd from sys.path.\n"
     ]
    }
   ],
   "source": [
    "tables = [\n",
    "    (df_pivot17, \"2017\"),\n",
    "    (df_pivot18, \"2018\"),\n",
    "    (df_pivot19, \"2019\")\n",
    "]\n",
    "for table in tables:\n",
    "    health_tables(table[0], table[1])\n",
    "    education_tables(table[0], table[1])\n",
    "    economics_tables(table[0], table[1])\n",
    "    socioEconomics_tables(table[0], table[1])\n",
    "    geographics_tables(table[0], table[1])"
   ]
  }
 ],
 "metadata": {
  "kernelspec": {
   "display_name": "Python 3",
   "language": "python",
   "name": "python3"
  },
  "language_info": {
   "codemirror_mode": {
    "name": "ipython",
    "version": 3
   },
   "file_extension": ".py",
   "mimetype": "text/x-python",
   "name": "python",
   "nbconvert_exporter": "python",
   "pygments_lexer": "ipython3",
   "version": "3.7.8"
  },
  "toc": {
   "base_numbering": 1,
   "nav_menu": {},
   "number_sections": false,
   "sideBar": false,
   "skip_h1_title": false,
   "title_cell": "Table of Contents",
   "title_sidebar": "Contents",
   "toc_cell": false,
   "toc_position": {},
   "toc_section_display": false,
   "toc_window_display": false
  }
 },
 "nbformat": 4,
 "nbformat_minor": 4
}