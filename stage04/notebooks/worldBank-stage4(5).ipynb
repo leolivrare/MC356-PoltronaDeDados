{
 "cells": [
  {
   "cell_type": "code",
   "execution_count": 117,
   "metadata": {},
   "outputs": [],
   "source": [
    "import pandas as pd\n",
    "import numpy as np"
   ]
  },
  {
   "cell_type": "markdown",
   "metadata": {},
   "source": [
    "# Organizando a tabela"
   ]
  },
  {
   "cell_type": "code",
   "execution_count": 118,
   "metadata": {},
   "outputs": [],
   "source": [
    "df_total = pd.read_csv(\"../data/world_development_indicators.csv\")\n",
    "df_total17 = df_total[[\"CountryName\", \"CountryCode\", \"SeriesCode\", \"Y2017\"]]\n",
    "df_total17 = df_total17[df_total17[\"CountryName\"].notnull()]"
   ]
  },
  {
   "cell_type": "code",
   "execution_count": 119,
   "metadata": {},
   "outputs": [],
   "source": [
    "def pivot_table(columns, index, values, df):\n",
    "    df_pivot = pd.pivot(df, columns=columns, index=index, values = values)\n",
    "    df_pivot.reset_index(inplace=True)\n",
    "    df_new = pd.DataFrame()\n",
    "    for i in df_pivot:\n",
    "        if type(i) == str:\n",
    "            df_new[i] = df_pivot[i]\n",
    "    return df_new"
   ]
  },
  {
   "cell_type": "markdown",
   "metadata": {},
   "source": [
    "## Tabela de Indicadores e seus códigos"
   ]
  },
  {
   "cell_type": "code",
   "execution_count": 120,
   "metadata": {},
   "outputs": [],
   "source": [
    "df_ind = df_total[[\"SeriesCode\", \"SeriesName\"]]\n",
    "df_ind.to_csv(\"../newdata/indicadores.csv\", index=False)"
   ]
  },
  {
   "cell_type": "code",
   "execution_count": 121,
   "metadata": {},
   "outputs": [
    {
     "output_type": "execute_result",
     "data": {
      "text/plain": [
       "             SeriesCode                                         SeriesName\n",
       "0        SH.MED.CMHW.P3        Community health workers (per 1,000 people)\n",
       "1     SH.XPD.CHEX.GD.ZS              Current health expenditure (% of GDP)\n",
       "2     SH.XPD.CHEX.PC.CD  Current health expenditure per capita (current...\n",
       "3        NY.GDP.PCAP.KN                      GDP per capita (constant LCU)\n",
       "4        NY.GDP.MKTP.KN                                 GDP (constant LCU)\n",
       "...                 ...                                                ...\n",
       "6600                NaN                                                NaN\n",
       "6601                NaN                                                NaN\n",
       "6602                NaN                                                NaN\n",
       "6603                NaN                                                NaN\n",
       "6604                NaN                                                NaN\n",
       "\n",
       "[6605 rows x 2 columns]"
      ],
      "text/html": "<div>\n<style scoped>\n    .dataframe tbody tr th:only-of-type {\n        vertical-align: middle;\n    }\n\n    .dataframe tbody tr th {\n        vertical-align: top;\n    }\n\n    .dataframe thead th {\n        text-align: right;\n    }\n</style>\n<table border=\"1\" class=\"dataframe\">\n  <thead>\n    <tr style=\"text-align: right;\">\n      <th></th>\n      <th>SeriesCode</th>\n      <th>SeriesName</th>\n    </tr>\n  </thead>\n  <tbody>\n    <tr>\n      <th>0</th>\n      <td>SH.MED.CMHW.P3</td>\n      <td>Community health workers (per 1,000 people)</td>\n    </tr>\n    <tr>\n      <th>1</th>\n      <td>SH.XPD.CHEX.GD.ZS</td>\n      <td>Current health expenditure (% of GDP)</td>\n    </tr>\n    <tr>\n      <th>2</th>\n      <td>SH.XPD.CHEX.PC.CD</td>\n      <td>Current health expenditure per capita (current...</td>\n    </tr>\n    <tr>\n      <th>3</th>\n      <td>NY.GDP.PCAP.KN</td>\n      <td>GDP per capita (constant LCU)</td>\n    </tr>\n    <tr>\n      <th>4</th>\n      <td>NY.GDP.MKTP.KN</td>\n      <td>GDP (constant LCU)</td>\n    </tr>\n    <tr>\n      <th>...</th>\n      <td>...</td>\n      <td>...</td>\n    </tr>\n    <tr>\n      <th>6600</th>\n      <td>NaN</td>\n      <td>NaN</td>\n    </tr>\n    <tr>\n      <th>6601</th>\n      <td>NaN</td>\n      <td>NaN</td>\n    </tr>\n    <tr>\n      <th>6602</th>\n      <td>NaN</td>\n      <td>NaN</td>\n    </tr>\n    <tr>\n      <th>6603</th>\n      <td>NaN</td>\n      <td>NaN</td>\n    </tr>\n    <tr>\n      <th>6604</th>\n      <td>NaN</td>\n      <td>NaN</td>\n    </tr>\n  </tbody>\n</table>\n<p>6605 rows × 2 columns</p>\n</div>"
     },
     "metadata": {},
     "execution_count": 121
    }
   ],
   "source": [
    "df_ind"
   ]
  },
  {
   "cell_type": "markdown",
   "metadata": {},
   "source": [
    "## Tabela 2017"
   ]
  },
  {
   "cell_type": "code",
   "execution_count": 122,
   "metadata": {},
   "outputs": [],
   "source": [
    "df_pivot17 = pivot_table(\"SeriesCode\", [\"CountryName\", \"CountryCode\"], \"Y2017\", df_total17)\n",
    "new_columns = []\n",
    "for i in df_pivot17.columns:\n",
    "  new_columns.append(i.replace(\".\", \"\"))\n",
    "df_pivot17.columns = new_columns\n",
    "df_pivot17.to_csv(\"../newdata/total_2017.csv\", index=False)"
   ]
  },
  {
   "cell_type": "code",
   "execution_count": 123,
   "metadata": {
    "scrolled": true
   },
   "outputs": [
    {
     "output_type": "execute_result",
     "data": {
      "text/plain": [
       "            CountryName CountryCode         ENPOPDNST ENPOPSLUMURZS  \\\n",
       "0           Afghanistan         AFG  55.5959930153479            ..   \n",
       "1               Albania         ALB  104.870693430657            ..   \n",
       "2               Algeria         DZA  17.3777146120063            ..   \n",
       "3        American Samoa         ASM             278.1            ..   \n",
       "4               Andorra         AND  163.831914893617            ..   \n",
       "..                  ...         ...               ...           ...   \n",
       "261  West Bank and Gaza         PSE  740.000830564784            ..   \n",
       "262               World         WLD  58.9618534562478            ..   \n",
       "263         Yemen, Rep.         YEM  52.7204594958047            ..   \n",
       "264              Zambia         ZMB  22.6713945573656            ..   \n",
       "265            Zimbabwe         ZWE  36.8017190125372            ..   \n",
       "\n",
       "        ENURBLCTYURZS ENURBMCTY     ENURBMCTYTLZS    GBXPDRSDVGDZS  \\\n",
       "0    42.6990168187315   3913297  10.7815017467297               ..   \n",
       "1    27.3479864857341        ..                ..               ..   \n",
       "2    8.91756334178298   2659373   6.4252827513111          0.54243   \n",
       "3                  ..        ..                ..               ..   \n",
       "4                  ..        ..                ..               ..   \n",
       "..                ...       ...               ...              ...   \n",
       "261  19.3597028036664        ..                ..               ..   \n",
       "262  16.0976476826867        ..  23.7670741438885  2.1443127135643   \n",
       "263  26.7441689960957   2681100  9.63217977942089               ..   \n",
       "264  33.2212257254929   2406227  14.2771540567263               ..   \n",
       "265  32.8990375637951   1509901  10.6056616171744               ..   \n",
       "\n",
       "          IPJRNARTCSC       NYGDPMKTPKN  ...     SHXPDCHEXPCCD SIDST10TH10  \\\n",
       "0               91.89      506215118500  ...  67.1226501464844          ..   \n",
       "1              149.54     1452763520000  ...                ..        24.8   \n",
       "2             5201.61  6039019210989.09  ...  258.494293212891          ..   \n",
       "3                  ..         595000000  ...                ..          ..   \n",
       "4                2.01        2580620000  ...  4040.78662109375          ..   \n",
       "..                ...               ...  ...               ...         ...   \n",
       "261            324.96       13686400000  ...                ..          ..   \n",
       "262  2464455.02522463                ..  ...  1061.14674489701          ..   \n",
       "263            126.37      225884000000  ...                ..          ..   \n",
       "264            209.45      134270590000  ...  67.6486663818359          ..   \n",
       "265            340.45       19187849500  ...  110.149620056152        34.8   \n",
       "\n",
       "    SIDST50MD SIPOVGINI     SLUEMTOTLNEZS          SPRURTOTLZG  \\\n",
       "0          ..        ..  11.1836004257202     2.24112815187675   \n",
       "1          12      33.2  13.6157999038696    -2.43282532196503   \n",
       "2          ..        ..  13.5699996948242  -0.0546470557579523   \n",
       "3          ..        ..                ..                    0   \n",
       "4          ..        ..                ..    0.450327522524326   \n",
       "..        ...       ...               ...                  ...   \n",
       "261        ..        ..  25.6765995025635    0.891213640520002   \n",
       "262        ..        ..  5.75450414741688    0.138439624019583   \n",
       "263        ..        ..                ..     1.45660107337313   \n",
       "264        ..        ..  11.6258001327515     2.01254214474919   \n",
       "265      12.7      44.3                ..     1.54717441894081   \n",
       "\n",
       "          SPRURTOTLZS           SPURBGROW   SPURBTOTL     SPURBTOTLINZS  \n",
       "0               74.75    3.46340748347353     9164841             25.25  \n",
       "1              40.617    1.54128496391169     1706345            59.383  \n",
       "2              27.948    2.87137414065366    29821745            72.052  \n",
       "3               12.83  -0.249255966476673       48484             87.17  \n",
       "4               11.85  -0.495265140972382       67876             88.15  \n",
       "..                ...                 ...         ...               ...  \n",
       "261            24.106     2.3398089806951     3380930            75.894  \n",
       "262  45.1769515180887     1.9843445125173  4115696800  54.8230484819113  \n",
       "263            63.984    4.16612336214073    10024989            36.016  \n",
       "264            57.024    4.21134865314207     7243041            42.976  \n",
       "265            67.763    1.27719247198111     4589499            32.237  \n",
       "\n",
       "[266 rows x 27 columns]"
      ],
      "text/html": "<div>\n<style scoped>\n    .dataframe tbody tr th:only-of-type {\n        vertical-align: middle;\n    }\n\n    .dataframe tbody tr th {\n        vertical-align: top;\n    }\n\n    .dataframe thead th {\n        text-align: right;\n    }\n</style>\n<table border=\"1\" class=\"dataframe\">\n  <thead>\n    <tr style=\"text-align: right;\">\n      <th></th>\n      <th>CountryName</th>\n      <th>CountryCode</th>\n      <th>ENPOPDNST</th>\n      <th>ENPOPSLUMURZS</th>\n      <th>ENURBLCTYURZS</th>\n      <th>ENURBMCTY</th>\n      <th>ENURBMCTYTLZS</th>\n      <th>GBXPDRSDVGDZS</th>\n      <th>IPJRNARTCSC</th>\n      <th>NYGDPMKTPKN</th>\n      <th>...</th>\n      <th>SHXPDCHEXPCCD</th>\n      <th>SIDST10TH10</th>\n      <th>SIDST50MD</th>\n      <th>SIPOVGINI</th>\n      <th>SLUEMTOTLNEZS</th>\n      <th>SPRURTOTLZG</th>\n      <th>SPRURTOTLZS</th>\n      <th>SPURBGROW</th>\n      <th>SPURBTOTL</th>\n      <th>SPURBTOTLINZS</th>\n    </tr>\n  </thead>\n  <tbody>\n    <tr>\n      <th>0</th>\n      <td>Afghanistan</td>\n      <td>AFG</td>\n      <td>55.5959930153479</td>\n      <td>..</td>\n      <td>42.6990168187315</td>\n      <td>3913297</td>\n      <td>10.7815017467297</td>\n      <td>..</td>\n      <td>91.89</td>\n      <td>506215118500</td>\n      <td>...</td>\n      <td>67.1226501464844</td>\n      <td>..</td>\n      <td>..</td>\n      <td>..</td>\n      <td>11.1836004257202</td>\n      <td>2.24112815187675</td>\n      <td>74.75</td>\n      <td>3.46340748347353</td>\n      <td>9164841</td>\n      <td>25.25</td>\n    </tr>\n    <tr>\n      <th>1</th>\n      <td>Albania</td>\n      <td>ALB</td>\n      <td>104.870693430657</td>\n      <td>..</td>\n      <td>27.3479864857341</td>\n      <td>..</td>\n      <td>..</td>\n      <td>..</td>\n      <td>149.54</td>\n      <td>1452763520000</td>\n      <td>...</td>\n      <td>..</td>\n      <td>24.8</td>\n      <td>12</td>\n      <td>33.2</td>\n      <td>13.6157999038696</td>\n      <td>-2.43282532196503</td>\n      <td>40.617</td>\n      <td>1.54128496391169</td>\n      <td>1706345</td>\n      <td>59.383</td>\n    </tr>\n    <tr>\n      <th>2</th>\n      <td>Algeria</td>\n      <td>DZA</td>\n      <td>17.3777146120063</td>\n      <td>..</td>\n      <td>8.91756334178298</td>\n      <td>2659373</td>\n      <td>6.4252827513111</td>\n      <td>0.54243</td>\n      <td>5201.61</td>\n      <td>6039019210989.09</td>\n      <td>...</td>\n      <td>258.494293212891</td>\n      <td>..</td>\n      <td>..</td>\n      <td>..</td>\n      <td>13.5699996948242</td>\n      <td>-0.0546470557579523</td>\n      <td>27.948</td>\n      <td>2.87137414065366</td>\n      <td>29821745</td>\n      <td>72.052</td>\n    </tr>\n    <tr>\n      <th>3</th>\n      <td>American Samoa</td>\n      <td>ASM</td>\n      <td>278.1</td>\n      <td>..</td>\n      <td>..</td>\n      <td>..</td>\n      <td>..</td>\n      <td>..</td>\n      <td>..</td>\n      <td>595000000</td>\n      <td>...</td>\n      <td>..</td>\n      <td>..</td>\n      <td>..</td>\n      <td>..</td>\n      <td>..</td>\n      <td>0</td>\n      <td>12.83</td>\n      <td>-0.249255966476673</td>\n      <td>48484</td>\n      <td>87.17</td>\n    </tr>\n    <tr>\n      <th>4</th>\n      <td>Andorra</td>\n      <td>AND</td>\n      <td>163.831914893617</td>\n      <td>..</td>\n      <td>..</td>\n      <td>..</td>\n      <td>..</td>\n      <td>..</td>\n      <td>2.01</td>\n      <td>2580620000</td>\n      <td>...</td>\n      <td>4040.78662109375</td>\n      <td>..</td>\n      <td>..</td>\n      <td>..</td>\n      <td>..</td>\n      <td>0.450327522524326</td>\n      <td>11.85</td>\n      <td>-0.495265140972382</td>\n      <td>67876</td>\n      <td>88.15</td>\n    </tr>\n    <tr>\n      <th>...</th>\n      <td>...</td>\n      <td>...</td>\n      <td>...</td>\n      <td>...</td>\n      <td>...</td>\n      <td>...</td>\n      <td>...</td>\n      <td>...</td>\n      <td>...</td>\n      <td>...</td>\n      <td>...</td>\n      <td>...</td>\n      <td>...</td>\n      <td>...</td>\n      <td>...</td>\n      <td>...</td>\n      <td>...</td>\n      <td>...</td>\n      <td>...</td>\n      <td>...</td>\n      <td>...</td>\n    </tr>\n    <tr>\n      <th>261</th>\n      <td>West Bank and Gaza</td>\n      <td>PSE</td>\n      <td>740.000830564784</td>\n      <td>..</td>\n      <td>19.3597028036664</td>\n      <td>..</td>\n      <td>..</td>\n      <td>..</td>\n      <td>324.96</td>\n      <td>13686400000</td>\n      <td>...</td>\n      <td>..</td>\n      <td>..</td>\n      <td>..</td>\n      <td>..</td>\n      <td>25.6765995025635</td>\n      <td>0.891213640520002</td>\n      <td>24.106</td>\n      <td>2.3398089806951</td>\n      <td>3380930</td>\n      <td>75.894</td>\n    </tr>\n    <tr>\n      <th>262</th>\n      <td>World</td>\n      <td>WLD</td>\n      <td>58.9618534562478</td>\n      <td>..</td>\n      <td>16.0976476826867</td>\n      <td>..</td>\n      <td>23.7670741438885</td>\n      <td>2.1443127135643</td>\n      <td>2464455.02522463</td>\n      <td>..</td>\n      <td>...</td>\n      <td>1061.14674489701</td>\n      <td>..</td>\n      <td>..</td>\n      <td>..</td>\n      <td>5.75450414741688</td>\n      <td>0.138439624019583</td>\n      <td>45.1769515180887</td>\n      <td>1.9843445125173</td>\n      <td>4115696800</td>\n      <td>54.8230484819113</td>\n    </tr>\n    <tr>\n      <th>263</th>\n      <td>Yemen, Rep.</td>\n      <td>YEM</td>\n      <td>52.7204594958047</td>\n      <td>..</td>\n      <td>26.7441689960957</td>\n      <td>2681100</td>\n      <td>9.63217977942089</td>\n      <td>..</td>\n      <td>126.37</td>\n      <td>225884000000</td>\n      <td>...</td>\n      <td>..</td>\n      <td>..</td>\n      <td>..</td>\n      <td>..</td>\n      <td>..</td>\n      <td>1.45660107337313</td>\n      <td>63.984</td>\n      <td>4.16612336214073</td>\n      <td>10024989</td>\n      <td>36.016</td>\n    </tr>\n    <tr>\n      <th>264</th>\n      <td>Zambia</td>\n      <td>ZMB</td>\n      <td>22.6713945573656</td>\n      <td>..</td>\n      <td>33.2212257254929</td>\n      <td>2406227</td>\n      <td>14.2771540567263</td>\n      <td>..</td>\n      <td>209.45</td>\n      <td>134270590000</td>\n      <td>...</td>\n      <td>67.6486663818359</td>\n      <td>..</td>\n      <td>..</td>\n      <td>..</td>\n      <td>11.6258001327515</td>\n      <td>2.01254214474919</td>\n      <td>57.024</td>\n      <td>4.21134865314207</td>\n      <td>7243041</td>\n      <td>42.976</td>\n    </tr>\n    <tr>\n      <th>265</th>\n      <td>Zimbabwe</td>\n      <td>ZWE</td>\n      <td>36.8017190125372</td>\n      <td>..</td>\n      <td>32.8990375637951</td>\n      <td>1509901</td>\n      <td>10.6056616171744</td>\n      <td>..</td>\n      <td>340.45</td>\n      <td>19187849500</td>\n      <td>...</td>\n      <td>110.149620056152</td>\n      <td>34.8</td>\n      <td>12.7</td>\n      <td>44.3</td>\n      <td>..</td>\n      <td>1.54717441894081</td>\n      <td>67.763</td>\n      <td>1.27719247198111</td>\n      <td>4589499</td>\n      <td>32.237</td>\n    </tr>\n  </tbody>\n</table>\n<p>266 rows × 27 columns</p>\n</div>"
     },
     "metadata": {},
     "execution_count": 123
    }
   ],
   "source": [
    "df_pivot17"
   ]
  },
  {
   "cell_type": "markdown",
   "metadata": {},
   "source": [
    "### Health"
   ]
  },
  {
   "cell_type": "code",
   "execution_count": 124,
   "metadata": {},
   "outputs": [
    {
     "output_type": "error",
     "ename": "KeyError",
     "evalue": "\"['SH.MED.BEDS.ZS', 'SH.XPD.CHEX.PC.CD', 'SH.XPD.CHEX.GD.ZS', 'SH.MED.NUMW.P3', 'SH.MED.CMHW.P3'] not in index\"",
     "traceback": [
      "\u001b[1;31m---------------------------------------------------------------------------\u001b[0m",
      "\u001b[1;31mKeyError\u001b[0m                                  Traceback (most recent call last)",
      "\u001b[1;32m<ipython-input-124-fb7d059d4e5e>\u001b[0m in \u001b[0;36m<module>\u001b[1;34m()\u001b[0m\n\u001b[1;32m----> 1\u001b[1;33m \u001b[0mdf_health17\u001b[0m \u001b[1;33m=\u001b[0m \u001b[0mdf_pivot17\u001b[0m\u001b[1;33m[\u001b[0m\u001b[1;33m[\u001b[0m\u001b[1;34m\"CountryCode\"\u001b[0m\u001b[1;33m,\u001b[0m \u001b[1;34m\"SH.MED.CMHW.P3\"\u001b[0m\u001b[1;33m,\u001b[0m \u001b[1;34m\"SH.XPD.CHEX.GD.ZS\"\u001b[0m\u001b[1;33m,\u001b[0m \u001b[1;34m\"SH.XPD.CHEX.PC.CD\"\u001b[0m\u001b[1;33m,\u001b[0m \u001b[1;34m\"SH.MED.BEDS.ZS\"\u001b[0m\u001b[1;33m,\u001b[0m \u001b[1;34m\"SH.MED.NUMW.P3\"\u001b[0m\u001b[1;33m]\u001b[0m\u001b[1;33m]\u001b[0m\u001b[1;33m\u001b[0m\u001b[1;33m\u001b[0m\u001b[0m\n\u001b[0m\u001b[0;32m      2\u001b[0m \u001b[0mdf_health17\u001b[0m\u001b[1;33m.\u001b[0m\u001b[0mto_csv\u001b[0m\u001b[1;33m(\u001b[0m\u001b[1;34m\"../newdata/health_2017.csv\"\u001b[0m\u001b[1;33m,\u001b[0m \u001b[0mindex\u001b[0m\u001b[1;33m=\u001b[0m\u001b[1;32mFalse\u001b[0m\u001b[1;33m)\u001b[0m\u001b[1;33m\u001b[0m\u001b[1;33m\u001b[0m\u001b[0m\n\u001b[0;32m      3\u001b[0m \u001b[0mdf_health17\u001b[0m\u001b[1;33m\u001b[0m\u001b[1;33m\u001b[0m\u001b[0m\n",
      "\u001b[1;32mD:\\Orange\\lib\\site-packages\\pandas\\core\\frame.py\u001b[0m in \u001b[0;36m__getitem__\u001b[1;34m(self, key)\u001b[0m\n\u001b[0;32m   2906\u001b[0m             \u001b[1;32mif\u001b[0m \u001b[0mis_iterator\u001b[0m\u001b[1;33m(\u001b[0m\u001b[0mkey\u001b[0m\u001b[1;33m)\u001b[0m\u001b[1;33m:\u001b[0m\u001b[1;33m\u001b[0m\u001b[1;33m\u001b[0m\u001b[0m\n\u001b[0;32m   2907\u001b[0m                 \u001b[0mkey\u001b[0m \u001b[1;33m=\u001b[0m \u001b[0mlist\u001b[0m\u001b[1;33m(\u001b[0m\u001b[0mkey\u001b[0m\u001b[1;33m)\u001b[0m\u001b[1;33m\u001b[0m\u001b[1;33m\u001b[0m\u001b[0m\n\u001b[1;32m-> 2908\u001b[1;33m             \u001b[0mindexer\u001b[0m \u001b[1;33m=\u001b[0m \u001b[0mself\u001b[0m\u001b[1;33m.\u001b[0m\u001b[0mloc\u001b[0m\u001b[1;33m.\u001b[0m\u001b[0m_get_listlike_indexer\u001b[0m\u001b[1;33m(\u001b[0m\u001b[0mkey\u001b[0m\u001b[1;33m,\u001b[0m \u001b[0maxis\u001b[0m\u001b[1;33m=\u001b[0m\u001b[1;36m1\u001b[0m\u001b[1;33m,\u001b[0m \u001b[0mraise_missing\u001b[0m\u001b[1;33m=\u001b[0m\u001b[1;32mTrue\u001b[0m\u001b[1;33m)\u001b[0m\u001b[1;33m[\u001b[0m\u001b[1;36m1\u001b[0m\u001b[1;33m]\u001b[0m\u001b[1;33m\u001b[0m\u001b[1;33m\u001b[0m\u001b[0m\n\u001b[0m\u001b[0;32m   2909\u001b[0m \u001b[1;33m\u001b[0m\u001b[0m\n\u001b[0;32m   2910\u001b[0m         \u001b[1;31m# take() does not accept boolean indexers\u001b[0m\u001b[1;33m\u001b[0m\u001b[1;33m\u001b[0m\u001b[1;33m\u001b[0m\u001b[0m\n",
      "\u001b[1;32mD:\\Orange\\lib\\site-packages\\pandas\\core\\indexing.py\u001b[0m in \u001b[0;36m_get_listlike_indexer\u001b[1;34m(self, key, axis, raise_missing)\u001b[0m\n\u001b[0;32m   1252\u001b[0m             \u001b[0mkeyarr\u001b[0m\u001b[1;33m,\u001b[0m \u001b[0mindexer\u001b[0m\u001b[1;33m,\u001b[0m \u001b[0mnew_indexer\u001b[0m \u001b[1;33m=\u001b[0m \u001b[0max\u001b[0m\u001b[1;33m.\u001b[0m\u001b[0m_reindex_non_unique\u001b[0m\u001b[1;33m(\u001b[0m\u001b[0mkeyarr\u001b[0m\u001b[1;33m)\u001b[0m\u001b[1;33m\u001b[0m\u001b[1;33m\u001b[0m\u001b[0m\n\u001b[0;32m   1253\u001b[0m \u001b[1;33m\u001b[0m\u001b[0m\n\u001b[1;32m-> 1254\u001b[1;33m         \u001b[0mself\u001b[0m\u001b[1;33m.\u001b[0m\u001b[0m_validate_read_indexer\u001b[0m\u001b[1;33m(\u001b[0m\u001b[0mkeyarr\u001b[0m\u001b[1;33m,\u001b[0m \u001b[0mindexer\u001b[0m\u001b[1;33m,\u001b[0m \u001b[0maxis\u001b[0m\u001b[1;33m,\u001b[0m \u001b[0mraise_missing\u001b[0m\u001b[1;33m=\u001b[0m\u001b[0mraise_missing\u001b[0m\u001b[1;33m)\u001b[0m\u001b[1;33m\u001b[0m\u001b[1;33m\u001b[0m\u001b[0m\n\u001b[0m\u001b[0;32m   1255\u001b[0m         \u001b[1;32mreturn\u001b[0m \u001b[0mkeyarr\u001b[0m\u001b[1;33m,\u001b[0m \u001b[0mindexer\u001b[0m\u001b[1;33m\u001b[0m\u001b[1;33m\u001b[0m\u001b[0m\n\u001b[0;32m   1256\u001b[0m \u001b[1;33m\u001b[0m\u001b[0m\n",
      "\u001b[1;32mD:\\Orange\\lib\\site-packages\\pandas\\core\\indexing.py\u001b[0m in \u001b[0;36m_validate_read_indexer\u001b[1;34m(self, key, indexer, axis, raise_missing)\u001b[0m\n\u001b[0;32m   1302\u001b[0m             \u001b[1;32mif\u001b[0m \u001b[0mraise_missing\u001b[0m\u001b[1;33m:\u001b[0m\u001b[1;33m\u001b[0m\u001b[1;33m\u001b[0m\u001b[0m\n\u001b[0;32m   1303\u001b[0m                 \u001b[0mnot_found\u001b[0m \u001b[1;33m=\u001b[0m \u001b[0mlist\u001b[0m\u001b[1;33m(\u001b[0m\u001b[0mset\u001b[0m\u001b[1;33m(\u001b[0m\u001b[0mkey\u001b[0m\u001b[1;33m)\u001b[0m \u001b[1;33m-\u001b[0m \u001b[0mset\u001b[0m\u001b[1;33m(\u001b[0m\u001b[0max\u001b[0m\u001b[1;33m)\u001b[0m\u001b[1;33m)\u001b[0m\u001b[1;33m\u001b[0m\u001b[1;33m\u001b[0m\u001b[0m\n\u001b[1;32m-> 1304\u001b[1;33m                 \u001b[1;32mraise\u001b[0m \u001b[0mKeyError\u001b[0m\u001b[1;33m(\u001b[0m\u001b[1;34mf\"{not_found} not in index\"\u001b[0m\u001b[1;33m)\u001b[0m\u001b[1;33m\u001b[0m\u001b[1;33m\u001b[0m\u001b[0m\n\u001b[0m\u001b[0;32m   1305\u001b[0m \u001b[1;33m\u001b[0m\u001b[0m\n\u001b[0;32m   1306\u001b[0m             \u001b[1;31m# we skip the warning on Categorical\u001b[0m\u001b[1;33m\u001b[0m\u001b[1;33m\u001b[0m\u001b[1;33m\u001b[0m\u001b[0m\n",
      "\u001b[1;31mKeyError\u001b[0m: \"['SH.MED.BEDS.ZS', 'SH.XPD.CHEX.PC.CD', 'SH.XPD.CHEX.GD.ZS', 'SH.MED.NUMW.P3', 'SH.MED.CMHW.P3'] not in index\""
     ]
    }
   ],
   "source": [
    "df_health17 = df_pivot17[[\"CountryCode\", \"SHMEDCMHWP3\", \"SHXPDCHEXGDZS\", \"SHXPDCHEXPCCD\", \"SHMEDBEDSZS\", \"SHMEDNUMWP3\"]]\n",
    "df_health17.to_csv(\"../newdata/health_2017.csv\", index=False)\n",
    "df_health17"
   ]
  },
  {
   "cell_type": "markdown",
   "metadata": {},
   "source": [
    "### Economics"
   ]
  },
  {
   "cell_type": "code",
   "execution_count": 94,
   "metadata": {
    "scrolled": true
   },
   "outputs": [
    {
     "output_type": "execute_result",
     "data": {
      "text/plain": [
       "    CountryCode    NY.GDP.PCAP.KN    NY.GDP.MKTP.KN SI.POV.GINI  \\\n",
       "0           AFG  13946.7032129908      506215118500          ..   \n",
       "1           ALB  505580.393233655     1452763520000        33.2   \n",
       "2           DZA  145908.099282066  6039019210989.09          ..   \n",
       "3           ASM  10697.5907946782         595000000          ..   \n",
       "4           AND   33514.110206361        2580620000          ..   \n",
       "..          ...               ...               ...         ...   \n",
       "261         PSE  3072.27813563108       13686400000          ..   \n",
       "262         WLD                ..                ..          ..   \n",
       "263         YEM  8115.15906640822      225884000000          ..   \n",
       "264         ZMB  7966.83728807606      134270590000          ..   \n",
       "265         ZWE  1347.76941639399       19187849500        44.3   \n",
       "\n",
       "       NY.GNP.MKTP.KN    NY.GNP.PCAP.KN  \n",
       "0                  ..                ..  \n",
       "1                  ..                ..  \n",
       "2    5909479636166.07  142778.307426157  \n",
       "3                  ..                ..  \n",
       "4                  ..                ..  \n",
       "..                ...               ...  \n",
       "261  15540544239.2573  3488.49034677327  \n",
       "262                ..                ..  \n",
       "263                ..                ..  \n",
       "264                ..                ..  \n",
       "265  17320653220.6662  1216.61610295515  \n",
       "\n",
       "[266 rows x 6 columns]"
      ],
      "text/html": "<div>\n<style scoped>\n    .dataframe tbody tr th:only-of-type {\n        vertical-align: middle;\n    }\n\n    .dataframe tbody tr th {\n        vertical-align: top;\n    }\n\n    .dataframe thead th {\n        text-align: right;\n    }\n</style>\n<table border=\"1\" class=\"dataframe\">\n  <thead>\n    <tr style=\"text-align: right;\">\n      <th></th>\n      <th>CountryCode</th>\n      <th>NY.GDP.PCAP.KN</th>\n      <th>NY.GDP.MKTP.KN</th>\n      <th>SI.POV.GINI</th>\n      <th>NY.GNP.MKTP.KN</th>\n      <th>NY.GNP.PCAP.KN</th>\n    </tr>\n  </thead>\n  <tbody>\n    <tr>\n      <th>0</th>\n      <td>AFG</td>\n      <td>13946.7032129908</td>\n      <td>506215118500</td>\n      <td>..</td>\n      <td>..</td>\n      <td>..</td>\n    </tr>\n    <tr>\n      <th>1</th>\n      <td>ALB</td>\n      <td>505580.393233655</td>\n      <td>1452763520000</td>\n      <td>33.2</td>\n      <td>..</td>\n      <td>..</td>\n    </tr>\n    <tr>\n      <th>2</th>\n      <td>DZA</td>\n      <td>145908.099282066</td>\n      <td>6039019210989.09</td>\n      <td>..</td>\n      <td>5909479636166.07</td>\n      <td>142778.307426157</td>\n    </tr>\n    <tr>\n      <th>3</th>\n      <td>ASM</td>\n      <td>10697.5907946782</td>\n      <td>595000000</td>\n      <td>..</td>\n      <td>..</td>\n      <td>..</td>\n    </tr>\n    <tr>\n      <th>4</th>\n      <td>AND</td>\n      <td>33514.110206361</td>\n      <td>2580620000</td>\n      <td>..</td>\n      <td>..</td>\n      <td>..</td>\n    </tr>\n    <tr>\n      <th>...</th>\n      <td>...</td>\n      <td>...</td>\n      <td>...</td>\n      <td>...</td>\n      <td>...</td>\n      <td>...</td>\n    </tr>\n    <tr>\n      <th>261</th>\n      <td>PSE</td>\n      <td>3072.27813563108</td>\n      <td>13686400000</td>\n      <td>..</td>\n      <td>15540544239.2573</td>\n      <td>3488.49034677327</td>\n    </tr>\n    <tr>\n      <th>262</th>\n      <td>WLD</td>\n      <td>..</td>\n      <td>..</td>\n      <td>..</td>\n      <td>..</td>\n      <td>..</td>\n    </tr>\n    <tr>\n      <th>263</th>\n      <td>YEM</td>\n      <td>8115.15906640822</td>\n      <td>225884000000</td>\n      <td>..</td>\n      <td>..</td>\n      <td>..</td>\n    </tr>\n    <tr>\n      <th>264</th>\n      <td>ZMB</td>\n      <td>7966.83728807606</td>\n      <td>134270590000</td>\n      <td>..</td>\n      <td>..</td>\n      <td>..</td>\n    </tr>\n    <tr>\n      <th>265</th>\n      <td>ZWE</td>\n      <td>1347.76941639399</td>\n      <td>19187849500</td>\n      <td>44.3</td>\n      <td>17320653220.6662</td>\n      <td>1216.61610295515</td>\n    </tr>\n  </tbody>\n</table>\n<p>266 rows × 6 columns</p>\n</div>"
     },
     "metadata": {},
     "execution_count": 94
    }
   ],
   "source": [
    "df_economics17 = df_pivot17[[\"CountryCode\", \"NYGDPPCAPKN\", \"NYGDPMKTPKN\", \"SIPOVGINI\", \"NYGNPMKTPKN\", \"NYGNPPCAPKN\"]]\n",
    "df_economics17.to_csv(\"../newdata/economics_2017.csv\", index=False)\n",
    "df_economics17"
   ]
  },
  {
   "cell_type": "markdown",
   "metadata": {},
   "source": [
    "### Socioeconomics"
   ]
  },
  {
   "cell_type": "code",
   "execution_count": 95,
   "metadata": {
    "scrolled": true
   },
   "outputs": [
    {
     "output_type": "execute_result",
     "data": {
      "text/plain": [
       "    CountryCode SI.DST.10TH.10 SI.DST.50MD SL.UEM.TOTL.NE.ZS\n",
       "0           AFG             ..          ..  11.1836004257202\n",
       "1           ALB           24.8          12  13.6157999038696\n",
       "2           DZA             ..          ..  13.5699996948242\n",
       "3           ASM             ..          ..                ..\n",
       "4           AND             ..          ..                ..\n",
       "..          ...            ...         ...               ...\n",
       "261         PSE             ..          ..  25.6765995025635\n",
       "262         WLD             ..          ..  5.75450414741688\n",
       "263         YEM             ..          ..                ..\n",
       "264         ZMB             ..          ..  11.6258001327515\n",
       "265         ZWE           34.8        12.7                ..\n",
       "\n",
       "[266 rows x 4 columns]"
      ],
      "text/html": "<div>\n<style scoped>\n    .dataframe tbody tr th:only-of-type {\n        vertical-align: middle;\n    }\n\n    .dataframe tbody tr th {\n        vertical-align: top;\n    }\n\n    .dataframe thead th {\n        text-align: right;\n    }\n</style>\n<table border=\"1\" class=\"dataframe\">\n  <thead>\n    <tr style=\"text-align: right;\">\n      <th></th>\n      <th>CountryCode</th>\n      <th>SI.DST.10TH.10</th>\n      <th>SI.DST.50MD</th>\n      <th>SL.UEM.TOTL.NE.ZS</th>\n    </tr>\n  </thead>\n  <tbody>\n    <tr>\n      <th>0</th>\n      <td>AFG</td>\n      <td>..</td>\n      <td>..</td>\n      <td>11.1836004257202</td>\n    </tr>\n    <tr>\n      <th>1</th>\n      <td>ALB</td>\n      <td>24.8</td>\n      <td>12</td>\n      <td>13.6157999038696</td>\n    </tr>\n    <tr>\n      <th>2</th>\n      <td>DZA</td>\n      <td>..</td>\n      <td>..</td>\n      <td>13.5699996948242</td>\n    </tr>\n    <tr>\n      <th>3</th>\n      <td>ASM</td>\n      <td>..</td>\n      <td>..</td>\n      <td>..</td>\n    </tr>\n    <tr>\n      <th>4</th>\n      <td>AND</td>\n      <td>..</td>\n      <td>..</td>\n      <td>..</td>\n    </tr>\n    <tr>\n      <th>...</th>\n      <td>...</td>\n      <td>...</td>\n      <td>...</td>\n      <td>...</td>\n    </tr>\n    <tr>\n      <th>261</th>\n      <td>PSE</td>\n      <td>..</td>\n      <td>..</td>\n      <td>25.6765995025635</td>\n    </tr>\n    <tr>\n      <th>262</th>\n      <td>WLD</td>\n      <td>..</td>\n      <td>..</td>\n      <td>5.75450414741688</td>\n    </tr>\n    <tr>\n      <th>263</th>\n      <td>YEM</td>\n      <td>..</td>\n      <td>..</td>\n      <td>..</td>\n    </tr>\n    <tr>\n      <th>264</th>\n      <td>ZMB</td>\n      <td>..</td>\n      <td>..</td>\n      <td>11.6258001327515</td>\n    </tr>\n    <tr>\n      <th>265</th>\n      <td>ZWE</td>\n      <td>34.8</td>\n      <td>12.7</td>\n      <td>..</td>\n    </tr>\n  </tbody>\n</table>\n<p>266 rows × 4 columns</p>\n</div>"
     },
     "metadata": {},
     "execution_count": 95
    }
   ],
   "source": [
    "df_socioEconomics17 = df_pivot17[[\"CountryCode\", \"SIDST10TH10\", \"SIDST50MD\", \"SLUEMTOTLNEZS\"]]\n",
    "df_socioEconomics17.to_csv(\"../newdata/socioEconomics_2017.csv\", index=False)\n",
    "df_socioEconomics17"
   ]
  },
  {
   "cell_type": "markdown",
   "metadata": {},
   "source": [
    "### Education"
   ]
  },
  {
   "cell_type": "code",
   "execution_count": 96,
   "metadata": {
    "scrolled": true
   },
   "outputs": [
    {
     "output_type": "execute_result",
     "data": {
      "text/plain": [
       "    CountryCode GB.XPD.RSDV.GD.ZS    IP.JRN.ARTC.SC\n",
       "0           AFG                ..             91.89\n",
       "1           ALB                ..            149.54\n",
       "2           DZA           0.54243           5201.61\n",
       "3           ASM                ..                ..\n",
       "4           AND                ..              2.01\n",
       "..          ...               ...               ...\n",
       "261         PSE                ..            324.96\n",
       "262         WLD   2.1443127135643  2464455.02522463\n",
       "263         YEM                ..            126.37\n",
       "264         ZMB                ..            209.45\n",
       "265         ZWE                ..            340.45\n",
       "\n",
       "[266 rows x 3 columns]"
      ],
      "text/html": "<div>\n<style scoped>\n    .dataframe tbody tr th:only-of-type {\n        vertical-align: middle;\n    }\n\n    .dataframe tbody tr th {\n        vertical-align: top;\n    }\n\n    .dataframe thead th {\n        text-align: right;\n    }\n</style>\n<table border=\"1\" class=\"dataframe\">\n  <thead>\n    <tr style=\"text-align: right;\">\n      <th></th>\n      <th>CountryCode</th>\n      <th>GB.XPD.RSDV.GD.ZS</th>\n      <th>IP.JRN.ARTC.SC</th>\n    </tr>\n  </thead>\n  <tbody>\n    <tr>\n      <th>0</th>\n      <td>AFG</td>\n      <td>..</td>\n      <td>91.89</td>\n    </tr>\n    <tr>\n      <th>1</th>\n      <td>ALB</td>\n      <td>..</td>\n      <td>149.54</td>\n    </tr>\n    <tr>\n      <th>2</th>\n      <td>DZA</td>\n      <td>0.54243</td>\n      <td>5201.61</td>\n    </tr>\n    <tr>\n      <th>3</th>\n      <td>ASM</td>\n      <td>..</td>\n      <td>..</td>\n    </tr>\n    <tr>\n      <th>4</th>\n      <td>AND</td>\n      <td>..</td>\n      <td>2.01</td>\n    </tr>\n    <tr>\n      <th>...</th>\n      <td>...</td>\n      <td>...</td>\n      <td>...</td>\n    </tr>\n    <tr>\n      <th>261</th>\n      <td>PSE</td>\n      <td>..</td>\n      <td>324.96</td>\n    </tr>\n    <tr>\n      <th>262</th>\n      <td>WLD</td>\n      <td>2.1443127135643</td>\n      <td>2464455.02522463</td>\n    </tr>\n    <tr>\n      <th>263</th>\n      <td>YEM</td>\n      <td>..</td>\n      <td>126.37</td>\n    </tr>\n    <tr>\n      <th>264</th>\n      <td>ZMB</td>\n      <td>..</td>\n      <td>209.45</td>\n    </tr>\n    <tr>\n      <th>265</th>\n      <td>ZWE</td>\n      <td>..</td>\n      <td>340.45</td>\n    </tr>\n  </tbody>\n</table>\n<p>266 rows × 3 columns</p>\n</div>"
     },
     "metadata": {},
     "execution_count": 96
    }
   ],
   "source": [
    "df_education17 = df_pivot17[[\"CountryCode\", \"GBXPDRSDVGD.ZS\", \"IPJRNARTCSC\"]]\n",
    "df_education17.to_csv(\"../newdata/education_2017.csv\", index=False)\n",
    "df_education17"
   ]
  },
  {
   "cell_type": "markdown",
   "metadata": {},
   "source": [
    "### Geographics"
   ]
  },
  {
   "cell_type": "code",
   "execution_count": 97,
   "metadata": {},
   "outputs": [
    {
     "output_type": "execute_result",
     "data": {
      "text/plain": [
       "    CountryCode EN.URB.MCTY.TL.ZS EN.URB.MCTY EN.URB.LCTY.UR.ZS  \\\n",
       "0           AFG  10.7815017467297     3913297  42.6990168187315   \n",
       "1           ALB                ..          ..  27.3479864857341   \n",
       "2           DZA   6.4252827513111     2659373  8.91756334178298   \n",
       "3           ASM                ..          ..                ..   \n",
       "4           AND                ..          ..                ..   \n",
       "..          ...               ...         ...               ...   \n",
       "261         PSE                ..          ..  19.3597028036664   \n",
       "262         WLD  23.7670741438885          ..  16.0976476826867   \n",
       "263         YEM  9.63217977942089     2681100  26.7441689960957   \n",
       "264         ZMB  14.2771540567263     2406227  33.2212257254929   \n",
       "265         ZWE  10.6056616171744     1509901  32.8990375637951   \n",
       "\n",
       "          EN.POP.DNST EN.POP.SLUM.UR.ZS    SP.RUR.TOTL.ZS  \\\n",
       "0    55.5959930153479                ..             74.75   \n",
       "1    104.870693430657                ..            40.617   \n",
       "2    17.3777146120063                ..            27.948   \n",
       "3               278.1                ..             12.83   \n",
       "4    163.831914893617                ..             11.85   \n",
       "..                ...               ...               ...   \n",
       "261  740.000830564784                ..            24.106   \n",
       "262  58.9618534562478                ..  45.1769515180887   \n",
       "263  52.7204594958047                ..            63.984   \n",
       "264  22.6713945573656                ..            57.024   \n",
       "265  36.8017190125372                ..            67.763   \n",
       "\n",
       "          SP.RUR.TOTL.ZG SP.URB.TOTL         SP.URB.GROW SP.URB.TOTL.IN.ZS  \n",
       "0       2.24112815187675     9164841    3.46340748347353             25.25  \n",
       "1      -2.43282532196503     1706345    1.54128496391169            59.383  \n",
       "2    -0.0546470557579523    29821745    2.87137414065366            72.052  \n",
       "3                      0       48484  -0.249255966476673             87.17  \n",
       "4      0.450327522524326       67876  -0.495265140972382             88.15  \n",
       "..                   ...         ...                 ...               ...  \n",
       "261    0.891213640520002     3380930     2.3398089806951            75.894  \n",
       "262    0.138439624019583  4115696800     1.9843445125173  54.8230484819113  \n",
       "263     1.45660107337313    10024989    4.16612336214073            36.016  \n",
       "264     2.01254214474919     7243041    4.21134865314207            42.976  \n",
       "265     1.54717441894081     4589499    1.27719247198111            32.237  \n",
       "\n",
       "[266 rows x 11 columns]"
      ],
      "text/html": "<div>\n<style scoped>\n    .dataframe tbody tr th:only-of-type {\n        vertical-align: middle;\n    }\n\n    .dataframe tbody tr th {\n        vertical-align: top;\n    }\n\n    .dataframe thead th {\n        text-align: right;\n    }\n</style>\n<table border=\"1\" class=\"dataframe\">\n  <thead>\n    <tr style=\"text-align: right;\">\n      <th></th>\n      <th>CountryCode</th>\n      <th>EN.URB.MCTY.TL.ZS</th>\n      <th>EN.URB.MCTY</th>\n      <th>EN.URB.LCTY.UR.ZS</th>\n      <th>EN.POP.DNST</th>\n      <th>EN.POP.SLUM.UR.ZS</th>\n      <th>SP.RUR.TOTL.ZS</th>\n      <th>SP.RUR.TOTL.ZG</th>\n      <th>SP.URB.TOTL</th>\n      <th>SP.URB.GROW</th>\n      <th>SP.URB.TOTL.IN.ZS</th>\n    </tr>\n  </thead>\n  <tbody>\n    <tr>\n      <th>0</th>\n      <td>AFG</td>\n      <td>10.7815017467297</td>\n      <td>3913297</td>\n      <td>42.6990168187315</td>\n      <td>55.5959930153479</td>\n      <td>..</td>\n      <td>74.75</td>\n      <td>2.24112815187675</td>\n      <td>9164841</td>\n      <td>3.46340748347353</td>\n      <td>25.25</td>\n    </tr>\n    <tr>\n      <th>1</th>\n      <td>ALB</td>\n      <td>..</td>\n      <td>..</td>\n      <td>27.3479864857341</td>\n      <td>104.870693430657</td>\n      <td>..</td>\n      <td>40.617</td>\n      <td>-2.43282532196503</td>\n      <td>1706345</td>\n      <td>1.54128496391169</td>\n      <td>59.383</td>\n    </tr>\n    <tr>\n      <th>2</th>\n      <td>DZA</td>\n      <td>6.4252827513111</td>\n      <td>2659373</td>\n      <td>8.91756334178298</td>\n      <td>17.3777146120063</td>\n      <td>..</td>\n      <td>27.948</td>\n      <td>-0.0546470557579523</td>\n      <td>29821745</td>\n      <td>2.87137414065366</td>\n      <td>72.052</td>\n    </tr>\n    <tr>\n      <th>3</th>\n      <td>ASM</td>\n      <td>..</td>\n      <td>..</td>\n      <td>..</td>\n      <td>278.1</td>\n      <td>..</td>\n      <td>12.83</td>\n      <td>0</td>\n      <td>48484</td>\n      <td>-0.249255966476673</td>\n      <td>87.17</td>\n    </tr>\n    <tr>\n      <th>4</th>\n      <td>AND</td>\n      <td>..</td>\n      <td>..</td>\n      <td>..</td>\n      <td>163.831914893617</td>\n      <td>..</td>\n      <td>11.85</td>\n      <td>0.450327522524326</td>\n      <td>67876</td>\n      <td>-0.495265140972382</td>\n      <td>88.15</td>\n    </tr>\n    <tr>\n      <th>...</th>\n      <td>...</td>\n      <td>...</td>\n      <td>...</td>\n      <td>...</td>\n      <td>...</td>\n      <td>...</td>\n      <td>...</td>\n      <td>...</td>\n      <td>...</td>\n      <td>...</td>\n      <td>...</td>\n    </tr>\n    <tr>\n      <th>261</th>\n      <td>PSE</td>\n      <td>..</td>\n      <td>..</td>\n      <td>19.3597028036664</td>\n      <td>740.000830564784</td>\n      <td>..</td>\n      <td>24.106</td>\n      <td>0.891213640520002</td>\n      <td>3380930</td>\n      <td>2.3398089806951</td>\n      <td>75.894</td>\n    </tr>\n    <tr>\n      <th>262</th>\n      <td>WLD</td>\n      <td>23.7670741438885</td>\n      <td>..</td>\n      <td>16.0976476826867</td>\n      <td>58.9618534562478</td>\n      <td>..</td>\n      <td>45.1769515180887</td>\n      <td>0.138439624019583</td>\n      <td>4115696800</td>\n      <td>1.9843445125173</td>\n      <td>54.8230484819113</td>\n    </tr>\n    <tr>\n      <th>263</th>\n      <td>YEM</td>\n      <td>9.63217977942089</td>\n      <td>2681100</td>\n      <td>26.7441689960957</td>\n      <td>52.7204594958047</td>\n      <td>..</td>\n      <td>63.984</td>\n      <td>1.45660107337313</td>\n      <td>10024989</td>\n      <td>4.16612336214073</td>\n      <td>36.016</td>\n    </tr>\n    <tr>\n      <th>264</th>\n      <td>ZMB</td>\n      <td>14.2771540567263</td>\n      <td>2406227</td>\n      <td>33.2212257254929</td>\n      <td>22.6713945573656</td>\n      <td>..</td>\n      <td>57.024</td>\n      <td>2.01254214474919</td>\n      <td>7243041</td>\n      <td>4.21134865314207</td>\n      <td>42.976</td>\n    </tr>\n    <tr>\n      <th>265</th>\n      <td>ZWE</td>\n      <td>10.6056616171744</td>\n      <td>1509901</td>\n      <td>32.8990375637951</td>\n      <td>36.8017190125372</td>\n      <td>..</td>\n      <td>67.763</td>\n      <td>1.54717441894081</td>\n      <td>4589499</td>\n      <td>1.27719247198111</td>\n      <td>32.237</td>\n    </tr>\n  </tbody>\n</table>\n<p>266 rows × 11 columns</p>\n</div>"
     },
     "metadata": {},
     "execution_count": 97
    }
   ],
   "source": [
    "df_geographics17 = df_pivot17[[\"CountryCode\", \"ENURBMCTYTLZS\", \"ENURBMCTY\", \"ENURBLCTYURZS\", \"ENPOPDNST\", \"ENPOPSLUMURZS\", \"SPRURTOTLZS\", \"SPRURTOTLZG\", \"SPURBTOTL\", \"SPURBGROW\", \"SPURBTOTLINZS\"]]\n",
    "df_geographics17.to_csv(\"../newdata/geographics_2017.csv\", index=False)\n",
    "df_geographics17"
   ]
  },
  {
   "cell_type": "markdown",
   "metadata": {},
   "source": [
    "## Tabela 2018"
   ]
  },
  {
   "cell_type": "code",
   "execution_count": 98,
   "metadata": {},
   "outputs": [],
   "source": [
    "df_total18 = df_total[[\"CountryName\", \"CountryCode\", \"SeriesCode\", \"Y2018\"]]\n",
    "df_total18 = df_total18[df_total18[\"CountryName\"].notnull()]\n",
    "\n",
    "new_columns = []\n",
    "for i in df_pivot18.columns:\n",
    "  new_columns.append(i.replace(\".\", \"\"))\n",
    "df_pivot18.columns = new_columns\n",
    "\n",
    "df_pivot18 = pivot_table(\"SeriesCode\", [\"CountryName\", \"CountryCode\"], \"Y2018\", df_total18)\n",
    "df_pivot18.to_csv(\"../newdata/total_2018.csv\", index=False)"
   ]
  },
  {
   "cell_type": "code",
   "execution_count": 99,
   "metadata": {
    "scrolled": false
   },
   "outputs": [
    {
     "output_type": "execute_result",
     "data": {
      "text/plain": [
       "            CountryName CountryCode       EN.POP.DNST EN.POP.SLUM.UR.ZS  \\\n",
       "0           Afghanistan         AFG   56.937760009803  70.6999969482422   \n",
       "1               Albania         ALB  104.612262773723                ..   \n",
       "2               Algeria         DZA  17.7300750711665                ..   \n",
       "3        American Samoa         ASM           277.325                ..   \n",
       "4               Andorra         AND  163.842553191489                ..   \n",
       "..                  ...         ...               ...               ...   \n",
       "261  West Bank and Gaza         PSE  758.984551495017                ..   \n",
       "262               World         WLD  59.6178807531312  29.2445561511366   \n",
       "263         Yemen, Rep.         YEM  53.9778529083092  66.1999969482422   \n",
       "264              Zambia         ZMB  23.3414789007116  54.5999984741211   \n",
       "265            Zimbabwe         ZWE  37.3245909267158              33.5   \n",
       "\n",
       "    EN.URB.LCTY.UR.ZS EN.URB.MCTY EN.URB.MCTY.TL.ZS GB.XPD.RSDV.GD.ZS  \\\n",
       "0    42.3311983623682     4011770   10.792339238057                ..   \n",
       "1    27.5063925379807          ..                ..                ..   \n",
       "2    8.78230990288061     2693542  6.37850392208528                ..   \n",
       "3                  ..          ..                ..                ..   \n",
       "4                  ..          ..                ..                ..   \n",
       "..                ...         ...               ...               ...   \n",
       "261  19.3574193555803          ..                ..                ..   \n",
       "262  16.1122287366912          ..  24.0100202823131  2.27364007357421   \n",
       "263  26.6154649528479     2779317  9.75243877024931                ..   \n",
       "264  33.4209340801511     2523844  14.5451238492419                ..   \n",
       "265  32.5763444910973     1515016  10.4925141031059                ..   \n",
       "\n",
       "       IP.JRN.ARTC.SC    NY.GDP.MKTP.KN  ... SH.XPD.CHEX.PC.CD SI.DST.10TH.10  \\\n",
       "0              111.72      515529924900  ...                ..             ..   \n",
       "1              180.36     1511909900000  ...                ..             ..   \n",
       "2             5231.44  6123565479992.34  ...                ..             ..   \n",
       "3                  ..         608000000  ...                ..             ..   \n",
       "4                 3.6        2621620000  ...                ..             ..   \n",
       "..                ...               ...  ...               ...            ...   \n",
       "261            375.95       13810300000  ...                ..             ..   \n",
       "262  2554373.36151358                ..  ...                ..             ..   \n",
       "263            137.44      227584000000  ...                ..             ..   \n",
       "264            213.07      139688155300  ...                ..             ..   \n",
       "265            359.33       20114560000  ...                ..             ..   \n",
       "\n",
       "    SI.DST.50MD SI.POV.GINI SL.UEM.TOTL.NE.ZS       SP.RUR.TOTL.ZG  \\\n",
       "0            ..          ..                ..     2.05646291237639   \n",
       "1            ..          ..  12.3037996292114    -2.57812110197857   \n",
       "2            ..          ..                ..  -0.0787864813063178   \n",
       "3            ..          ..                ..   -0.140232809406397   \n",
       "4            ..          ..                ..    0.742442541306233   \n",
       "..          ...         ...               ...                  ...   \n",
       "261          ..          ..  26.2560997009277     1.40670467907508   \n",
       "262          ..          ..  5.27310215036596    0.102531862340484   \n",
       "263          ..          ..                ..     1.37383409848097   \n",
       "264          ..          ..   12.006199836731     1.95247167129333   \n",
       "265          ..          ..                ..     1.45209278046374   \n",
       "\n",
       "       SP.RUR.TOTL.ZS         SP.URB.GROW SP.URB.TOTL SP.URB.TOTL.IN.ZS  \n",
       "0              74.505    3.35038297624495     9477100            25.495  \n",
       "1              39.681    1.31716210445698     1728969            60.319  \n",
       "2              27.371    2.80499567674668    30670086            72.629  \n",
       "3              12.847  -0.299515834872394       48339            87.153  \n",
       "4              11.938  -0.092859413109399       67813            88.062  \n",
       "..                ...                 ...         ...               ...  \n",
       "261            23.836    2.88811868523477     3479999            76.164  \n",
       "262  44.7295739607251    1.92878651799617  4195079805  55.2704260392749  \n",
       "263            63.358    4.08020880658667    10442489            36.642  \n",
       "264            56.479    4.17297037539389     7551686            43.521  \n",
       "265            67.791    1.32389222924462     4650663            32.209  \n",
       "\n",
       "[266 rows x 27 columns]"
      ],
      "text/html": "<div>\n<style scoped>\n    .dataframe tbody tr th:only-of-type {\n        vertical-align: middle;\n    }\n\n    .dataframe tbody tr th {\n        vertical-align: top;\n    }\n\n    .dataframe thead th {\n        text-align: right;\n    }\n</style>\n<table border=\"1\" class=\"dataframe\">\n  <thead>\n    <tr style=\"text-align: right;\">\n      <th></th>\n      <th>CountryName</th>\n      <th>CountryCode</th>\n      <th>EN.POP.DNST</th>\n      <th>EN.POP.SLUM.UR.ZS</th>\n      <th>EN.URB.LCTY.UR.ZS</th>\n      <th>EN.URB.MCTY</th>\n      <th>EN.URB.MCTY.TL.ZS</th>\n      <th>GB.XPD.RSDV.GD.ZS</th>\n      <th>IP.JRN.ARTC.SC</th>\n      <th>NY.GDP.MKTP.KN</th>\n      <th>...</th>\n      <th>SH.XPD.CHEX.PC.CD</th>\n      <th>SI.DST.10TH.10</th>\n      <th>SI.DST.50MD</th>\n      <th>SI.POV.GINI</th>\n      <th>SL.UEM.TOTL.NE.ZS</th>\n      <th>SP.RUR.TOTL.ZG</th>\n      <th>SP.RUR.TOTL.ZS</th>\n      <th>SP.URB.GROW</th>\n      <th>SP.URB.TOTL</th>\n      <th>SP.URB.TOTL.IN.ZS</th>\n    </tr>\n  </thead>\n  <tbody>\n    <tr>\n      <th>0</th>\n      <td>Afghanistan</td>\n      <td>AFG</td>\n      <td>56.937760009803</td>\n      <td>70.6999969482422</td>\n      <td>42.3311983623682</td>\n      <td>4011770</td>\n      <td>10.792339238057</td>\n      <td>..</td>\n      <td>111.72</td>\n      <td>515529924900</td>\n      <td>...</td>\n      <td>..</td>\n      <td>..</td>\n      <td>..</td>\n      <td>..</td>\n      <td>..</td>\n      <td>2.05646291237639</td>\n      <td>74.505</td>\n      <td>3.35038297624495</td>\n      <td>9477100</td>\n      <td>25.495</td>\n    </tr>\n    <tr>\n      <th>1</th>\n      <td>Albania</td>\n      <td>ALB</td>\n      <td>104.612262773723</td>\n      <td>..</td>\n      <td>27.5063925379807</td>\n      <td>..</td>\n      <td>..</td>\n      <td>..</td>\n      <td>180.36</td>\n      <td>1511909900000</td>\n      <td>...</td>\n      <td>..</td>\n      <td>..</td>\n      <td>..</td>\n      <td>..</td>\n      <td>12.3037996292114</td>\n      <td>-2.57812110197857</td>\n      <td>39.681</td>\n      <td>1.31716210445698</td>\n      <td>1728969</td>\n      <td>60.319</td>\n    </tr>\n    <tr>\n      <th>2</th>\n      <td>Algeria</td>\n      <td>DZA</td>\n      <td>17.7300750711665</td>\n      <td>..</td>\n      <td>8.78230990288061</td>\n      <td>2693542</td>\n      <td>6.37850392208528</td>\n      <td>..</td>\n      <td>5231.44</td>\n      <td>6123565479992.34</td>\n      <td>...</td>\n      <td>..</td>\n      <td>..</td>\n      <td>..</td>\n      <td>..</td>\n      <td>..</td>\n      <td>-0.0787864813063178</td>\n      <td>27.371</td>\n      <td>2.80499567674668</td>\n      <td>30670086</td>\n      <td>72.629</td>\n    </tr>\n    <tr>\n      <th>3</th>\n      <td>American Samoa</td>\n      <td>ASM</td>\n      <td>277.325</td>\n      <td>..</td>\n      <td>..</td>\n      <td>..</td>\n      <td>..</td>\n      <td>..</td>\n      <td>..</td>\n      <td>608000000</td>\n      <td>...</td>\n      <td>..</td>\n      <td>..</td>\n      <td>..</td>\n      <td>..</td>\n      <td>..</td>\n      <td>-0.140232809406397</td>\n      <td>12.847</td>\n      <td>-0.299515834872394</td>\n      <td>48339</td>\n      <td>87.153</td>\n    </tr>\n    <tr>\n      <th>4</th>\n      <td>Andorra</td>\n      <td>AND</td>\n      <td>163.842553191489</td>\n      <td>..</td>\n      <td>..</td>\n      <td>..</td>\n      <td>..</td>\n      <td>..</td>\n      <td>3.6</td>\n      <td>2621620000</td>\n      <td>...</td>\n      <td>..</td>\n      <td>..</td>\n      <td>..</td>\n      <td>..</td>\n      <td>..</td>\n      <td>0.742442541306233</td>\n      <td>11.938</td>\n      <td>-0.092859413109399</td>\n      <td>67813</td>\n      <td>88.062</td>\n    </tr>\n    <tr>\n      <th>...</th>\n      <td>...</td>\n      <td>...</td>\n      <td>...</td>\n      <td>...</td>\n      <td>...</td>\n      <td>...</td>\n      <td>...</td>\n      <td>...</td>\n      <td>...</td>\n      <td>...</td>\n      <td>...</td>\n      <td>...</td>\n      <td>...</td>\n      <td>...</td>\n      <td>...</td>\n      <td>...</td>\n      <td>...</td>\n      <td>...</td>\n      <td>...</td>\n      <td>...</td>\n      <td>...</td>\n    </tr>\n    <tr>\n      <th>261</th>\n      <td>West Bank and Gaza</td>\n      <td>PSE</td>\n      <td>758.984551495017</td>\n      <td>..</td>\n      <td>19.3574193555803</td>\n      <td>..</td>\n      <td>..</td>\n      <td>..</td>\n      <td>375.95</td>\n      <td>13810300000</td>\n      <td>...</td>\n      <td>..</td>\n      <td>..</td>\n      <td>..</td>\n      <td>..</td>\n      <td>26.2560997009277</td>\n      <td>1.40670467907508</td>\n      <td>23.836</td>\n      <td>2.88811868523477</td>\n      <td>3479999</td>\n      <td>76.164</td>\n    </tr>\n    <tr>\n      <th>262</th>\n      <td>World</td>\n      <td>WLD</td>\n      <td>59.6178807531312</td>\n      <td>29.2445561511366</td>\n      <td>16.1122287366912</td>\n      <td>..</td>\n      <td>24.0100202823131</td>\n      <td>2.27364007357421</td>\n      <td>2554373.36151358</td>\n      <td>..</td>\n      <td>...</td>\n      <td>..</td>\n      <td>..</td>\n      <td>..</td>\n      <td>..</td>\n      <td>5.27310215036596</td>\n      <td>0.102531862340484</td>\n      <td>44.7295739607251</td>\n      <td>1.92878651799617</td>\n      <td>4195079805</td>\n      <td>55.2704260392749</td>\n    </tr>\n    <tr>\n      <th>263</th>\n      <td>Yemen, Rep.</td>\n      <td>YEM</td>\n      <td>53.9778529083092</td>\n      <td>66.1999969482422</td>\n      <td>26.6154649528479</td>\n      <td>2779317</td>\n      <td>9.75243877024931</td>\n      <td>..</td>\n      <td>137.44</td>\n      <td>227584000000</td>\n      <td>...</td>\n      <td>..</td>\n      <td>..</td>\n      <td>..</td>\n      <td>..</td>\n      <td>..</td>\n      <td>1.37383409848097</td>\n      <td>63.358</td>\n      <td>4.08020880658667</td>\n      <td>10442489</td>\n      <td>36.642</td>\n    </tr>\n    <tr>\n      <th>264</th>\n      <td>Zambia</td>\n      <td>ZMB</td>\n      <td>23.3414789007116</td>\n      <td>54.5999984741211</td>\n      <td>33.4209340801511</td>\n      <td>2523844</td>\n      <td>14.5451238492419</td>\n      <td>..</td>\n      <td>213.07</td>\n      <td>139688155300</td>\n      <td>...</td>\n      <td>..</td>\n      <td>..</td>\n      <td>..</td>\n      <td>..</td>\n      <td>12.006199836731</td>\n      <td>1.95247167129333</td>\n      <td>56.479</td>\n      <td>4.17297037539389</td>\n      <td>7551686</td>\n      <td>43.521</td>\n    </tr>\n    <tr>\n      <th>265</th>\n      <td>Zimbabwe</td>\n      <td>ZWE</td>\n      <td>37.3245909267158</td>\n      <td>33.5</td>\n      <td>32.5763444910973</td>\n      <td>1515016</td>\n      <td>10.4925141031059</td>\n      <td>..</td>\n      <td>359.33</td>\n      <td>20114560000</td>\n      <td>...</td>\n      <td>..</td>\n      <td>..</td>\n      <td>..</td>\n      <td>..</td>\n      <td>..</td>\n      <td>1.45209278046374</td>\n      <td>67.791</td>\n      <td>1.32389222924462</td>\n      <td>4650663</td>\n      <td>32.209</td>\n    </tr>\n  </tbody>\n</table>\n<p>266 rows × 27 columns</p>\n</div>"
     },
     "metadata": {},
     "execution_count": 99
    }
   ],
   "source": [
    "df_pivot18"
   ]
  },
  {
   "cell_type": "markdown",
   "metadata": {},
   "source": [
    "### Health"
   ]
  },
  {
   "cell_type": "code",
   "execution_count": 100,
   "metadata": {},
   "outputs": [
    {
     "output_type": "execute_result",
     "data": {
      "text/plain": [
       "    CountryCode SH.MED.CMHW.P3 SH.XPD.CHEX.GD.ZS SH.XPD.CHEX.PC.CD  \\\n",
       "0           AFG             ..                ..                ..   \n",
       "1           ALB             ..                ..                ..   \n",
       "2           DZA             ..                ..                ..   \n",
       "3           ASM             ..                ..                ..   \n",
       "4           AND             ..                ..                ..   \n",
       "..          ...            ...               ...               ...   \n",
       "261         PSE             ..                ..                ..   \n",
       "262         WLD             ..                ..                ..   \n",
       "263         YEM             ..                ..                ..   \n",
       "264         ZMB             ..                ..                ..   \n",
       "265         ZWE             ..                ..                ..   \n",
       "\n",
       "    SH.MED.BEDS.ZS    SH.MED.NUMW.P3  \n",
       "0               ..                ..  \n",
       "1               ..                ..  \n",
       "2               ..            1.5477  \n",
       "3               ..                ..  \n",
       "4               ..                ..  \n",
       "..             ...               ...  \n",
       "261             ..                ..  \n",
       "262             ..  3.81583566508837  \n",
       "263             ..            0.7852  \n",
       "264             ..            1.3376  \n",
       "265             ..            1.9346  \n",
       "\n",
       "[266 rows x 6 columns]"
      ],
      "text/html": "<div>\n<style scoped>\n    .dataframe tbody tr th:only-of-type {\n        vertical-align: middle;\n    }\n\n    .dataframe tbody tr th {\n        vertical-align: top;\n    }\n\n    .dataframe thead th {\n        text-align: right;\n    }\n</style>\n<table border=\"1\" class=\"dataframe\">\n  <thead>\n    <tr style=\"text-align: right;\">\n      <th></th>\n      <th>CountryCode</th>\n      <th>SH.MED.CMHW.P3</th>\n      <th>SH.XPD.CHEX.GD.ZS</th>\n      <th>SH.XPD.CHEX.PC.CD</th>\n      <th>SH.MED.BEDS.ZS</th>\n      <th>SH.MED.NUMW.P3</th>\n    </tr>\n  </thead>\n  <tbody>\n    <tr>\n      <th>0</th>\n      <td>AFG</td>\n      <td>..</td>\n      <td>..</td>\n      <td>..</td>\n      <td>..</td>\n      <td>..</td>\n    </tr>\n    <tr>\n      <th>1</th>\n      <td>ALB</td>\n      <td>..</td>\n      <td>..</td>\n      <td>..</td>\n      <td>..</td>\n      <td>..</td>\n    </tr>\n    <tr>\n      <th>2</th>\n      <td>DZA</td>\n      <td>..</td>\n      <td>..</td>\n      <td>..</td>\n      <td>..</td>\n      <td>1.5477</td>\n    </tr>\n    <tr>\n      <th>3</th>\n      <td>ASM</td>\n      <td>..</td>\n      <td>..</td>\n      <td>..</td>\n      <td>..</td>\n      <td>..</td>\n    </tr>\n    <tr>\n      <th>4</th>\n      <td>AND</td>\n      <td>..</td>\n      <td>..</td>\n      <td>..</td>\n      <td>..</td>\n      <td>..</td>\n    </tr>\n    <tr>\n      <th>...</th>\n      <td>...</td>\n      <td>...</td>\n      <td>...</td>\n      <td>...</td>\n      <td>...</td>\n      <td>...</td>\n    </tr>\n    <tr>\n      <th>261</th>\n      <td>PSE</td>\n      <td>..</td>\n      <td>..</td>\n      <td>..</td>\n      <td>..</td>\n      <td>..</td>\n    </tr>\n    <tr>\n      <th>262</th>\n      <td>WLD</td>\n      <td>..</td>\n      <td>..</td>\n      <td>..</td>\n      <td>..</td>\n      <td>3.81583566508837</td>\n    </tr>\n    <tr>\n      <th>263</th>\n      <td>YEM</td>\n      <td>..</td>\n      <td>..</td>\n      <td>..</td>\n      <td>..</td>\n      <td>0.7852</td>\n    </tr>\n    <tr>\n      <th>264</th>\n      <td>ZMB</td>\n      <td>..</td>\n      <td>..</td>\n      <td>..</td>\n      <td>..</td>\n      <td>1.3376</td>\n    </tr>\n    <tr>\n      <th>265</th>\n      <td>ZWE</td>\n      <td>..</td>\n      <td>..</td>\n      <td>..</td>\n      <td>..</td>\n      <td>1.9346</td>\n    </tr>\n  </tbody>\n</table>\n<p>266 rows × 6 columns</p>\n</div>"
     },
     "metadata": {},
     "execution_count": 100
    }
   ],
   "source": [
    "df_health18 = df_pivot18[[\"CountryCode\", \"SH.MED.CMHW.P3\", \"SH.XPD.CHEX.GD.ZS\", \"SH.XPD.CHEX.PC.CD\", \"SH.MED.BEDS.ZS\", \"SH.MED.NUMW.P3\"]]\n",
    "df_health18.to_csv(\"../newdata/health_2018.csv\", index=False)\n",
    "df_health18"
   ]
  },
  {
   "cell_type": "markdown",
   "metadata": {},
   "source": [
    "### Economics"
   ]
  },
  {
   "cell_type": "code",
   "execution_count": 101,
   "metadata": {
    "scrolled": true
   },
   "outputs": [
    {
     "output_type": "execute_result",
     "data": {
      "text/plain": [
       "    CountryCode    NY.GDP.PCAP.KN    NY.GDP.MKTP.KN SI.POV.GINI  \\\n",
       "0           AFG   13868.626159752      515529924900          ..   \n",
       "1           ALB  527463.912619977     1511909900000          ..   \n",
       "2           DZA  145010.497075142  6123565479992.34          ..   \n",
       "3           ASM  10961.8678445867         608000000          ..   \n",
       "4           AND  34044.3601797263        2621620000          ..   \n",
       "..          ...               ...               ...         ...   \n",
       "261         PSE  3022.55133246533       13810300000          ..   \n",
       "262         WLD                ..                ..          ..   \n",
       "263         YEM  7985.77141466202      227584000000          ..   \n",
       "264         ZMB  8050.34510496938      139688155300          ..   \n",
       "265         ZWE   1393.0698057167       20114560000          ..   \n",
       "\n",
       "       NY.GNP.MKTP.KN    NY.GNP.PCAP.KN  \n",
       "0                  ..                ..  \n",
       "1                  ..                ..  \n",
       "2                  ..                ..  \n",
       "3                  ..                ..  \n",
       "4                  ..                ..  \n",
       "..                ...               ...  \n",
       "261  16028116041.4957   3507.9472204175  \n",
       "262                ..                ..  \n",
       "263                ..                ..  \n",
       "264                ..                ..  \n",
       "265   18733610172.538  1297.42965709566  \n",
       "\n",
       "[266 rows x 6 columns]"
      ],
      "text/html": "<div>\n<style scoped>\n    .dataframe tbody tr th:only-of-type {\n        vertical-align: middle;\n    }\n\n    .dataframe tbody tr th {\n        vertical-align: top;\n    }\n\n    .dataframe thead th {\n        text-align: right;\n    }\n</style>\n<table border=\"1\" class=\"dataframe\">\n  <thead>\n    <tr style=\"text-align: right;\">\n      <th></th>\n      <th>CountryCode</th>\n      <th>NY.GDP.PCAP.KN</th>\n      <th>NY.GDP.MKTP.KN</th>\n      <th>SI.POV.GINI</th>\n      <th>NY.GNP.MKTP.KN</th>\n      <th>NY.GNP.PCAP.KN</th>\n    </tr>\n  </thead>\n  <tbody>\n    <tr>\n      <th>0</th>\n      <td>AFG</td>\n      <td>13868.626159752</td>\n      <td>515529924900</td>\n      <td>..</td>\n      <td>..</td>\n      <td>..</td>\n    </tr>\n    <tr>\n      <th>1</th>\n      <td>ALB</td>\n      <td>527463.912619977</td>\n      <td>1511909900000</td>\n      <td>..</td>\n      <td>..</td>\n      <td>..</td>\n    </tr>\n    <tr>\n      <th>2</th>\n      <td>DZA</td>\n      <td>145010.497075142</td>\n      <td>6123565479992.34</td>\n      <td>..</td>\n      <td>..</td>\n      <td>..</td>\n    </tr>\n    <tr>\n      <th>3</th>\n      <td>ASM</td>\n      <td>10961.8678445867</td>\n      <td>608000000</td>\n      <td>..</td>\n      <td>..</td>\n      <td>..</td>\n    </tr>\n    <tr>\n      <th>4</th>\n      <td>AND</td>\n      <td>34044.3601797263</td>\n      <td>2621620000</td>\n      <td>..</td>\n      <td>..</td>\n      <td>..</td>\n    </tr>\n    <tr>\n      <th>...</th>\n      <td>...</td>\n      <td>...</td>\n      <td>...</td>\n      <td>...</td>\n      <td>...</td>\n      <td>...</td>\n    </tr>\n    <tr>\n      <th>261</th>\n      <td>PSE</td>\n      <td>3022.55133246533</td>\n      <td>13810300000</td>\n      <td>..</td>\n      <td>16028116041.4957</td>\n      <td>3507.9472204175</td>\n    </tr>\n    <tr>\n      <th>262</th>\n      <td>WLD</td>\n      <td>..</td>\n      <td>..</td>\n      <td>..</td>\n      <td>..</td>\n      <td>..</td>\n    </tr>\n    <tr>\n      <th>263</th>\n      <td>YEM</td>\n      <td>7985.77141466202</td>\n      <td>227584000000</td>\n      <td>..</td>\n      <td>..</td>\n      <td>..</td>\n    </tr>\n    <tr>\n      <th>264</th>\n      <td>ZMB</td>\n      <td>8050.34510496938</td>\n      <td>139688155300</td>\n      <td>..</td>\n      <td>..</td>\n      <td>..</td>\n    </tr>\n    <tr>\n      <th>265</th>\n      <td>ZWE</td>\n      <td>1393.0698057167</td>\n      <td>20114560000</td>\n      <td>..</td>\n      <td>18733610172.538</td>\n      <td>1297.42965709566</td>\n    </tr>\n  </tbody>\n</table>\n<p>266 rows × 6 columns</p>\n</div>"
     },
     "metadata": {},
     "execution_count": 101
    }
   ],
   "source": [
    "df_economics18 = df_pivot18[[\"CountryCode\", \"NY.GDP.PCAP.KN\", \"NY.GDP.MKTP.KN\", \"SI.POV.GINI\", \"NY.GNP.MKTP.KN\", \"NY.GNP.PCAP.KN\"]]\n",
    "df_economics18.to_csv(\"../newdata/economics_2018.csv\", index=False)\n",
    "df_economics18"
   ]
  },
  {
   "cell_type": "markdown",
   "metadata": {},
   "source": [
    "### Socioeconomics"
   ]
  },
  {
   "cell_type": "code",
   "execution_count": 102,
   "metadata": {
    "scrolled": true
   },
   "outputs": [
    {
     "output_type": "execute_result",
     "data": {
      "text/plain": [
       "    CountryCode SI.DST.10TH.10 SI.DST.50MD SL.UEM.TOTL.NE.ZS\n",
       "0           AFG             ..          ..                ..\n",
       "1           ALB             ..          ..  12.3037996292114\n",
       "2           DZA             ..          ..                ..\n",
       "3           ASM             ..          ..                ..\n",
       "4           AND             ..          ..                ..\n",
       "..          ...            ...         ...               ...\n",
       "261         PSE             ..          ..  26.2560997009277\n",
       "262         WLD             ..          ..  5.27310215036596\n",
       "263         YEM             ..          ..                ..\n",
       "264         ZMB             ..          ..   12.006199836731\n",
       "265         ZWE             ..          ..                ..\n",
       "\n",
       "[266 rows x 4 columns]"
      ],
      "text/html": "<div>\n<style scoped>\n    .dataframe tbody tr th:only-of-type {\n        vertical-align: middle;\n    }\n\n    .dataframe tbody tr th {\n        vertical-align: top;\n    }\n\n    .dataframe thead th {\n        text-align: right;\n    }\n</style>\n<table border=\"1\" class=\"dataframe\">\n  <thead>\n    <tr style=\"text-align: right;\">\n      <th></th>\n      <th>CountryCode</th>\n      <th>SI.DST.10TH.10</th>\n      <th>SI.DST.50MD</th>\n      <th>SL.UEM.TOTL.NE.ZS</th>\n    </tr>\n  </thead>\n  <tbody>\n    <tr>\n      <th>0</th>\n      <td>AFG</td>\n      <td>..</td>\n      <td>..</td>\n      <td>..</td>\n    </tr>\n    <tr>\n      <th>1</th>\n      <td>ALB</td>\n      <td>..</td>\n      <td>..</td>\n      <td>12.3037996292114</td>\n    </tr>\n    <tr>\n      <th>2</th>\n      <td>DZA</td>\n      <td>..</td>\n      <td>..</td>\n      <td>..</td>\n    </tr>\n    <tr>\n      <th>3</th>\n      <td>ASM</td>\n      <td>..</td>\n      <td>..</td>\n      <td>..</td>\n    </tr>\n    <tr>\n      <th>4</th>\n      <td>AND</td>\n      <td>..</td>\n      <td>..</td>\n      <td>..</td>\n    </tr>\n    <tr>\n      <th>...</th>\n      <td>...</td>\n      <td>...</td>\n      <td>...</td>\n      <td>...</td>\n    </tr>\n    <tr>\n      <th>261</th>\n      <td>PSE</td>\n      <td>..</td>\n      <td>..</td>\n      <td>26.2560997009277</td>\n    </tr>\n    <tr>\n      <th>262</th>\n      <td>WLD</td>\n      <td>..</td>\n      <td>..</td>\n      <td>5.27310215036596</td>\n    </tr>\n    <tr>\n      <th>263</th>\n      <td>YEM</td>\n      <td>..</td>\n      <td>..</td>\n      <td>..</td>\n    </tr>\n    <tr>\n      <th>264</th>\n      <td>ZMB</td>\n      <td>..</td>\n      <td>..</td>\n      <td>12.006199836731</td>\n    </tr>\n    <tr>\n      <th>265</th>\n      <td>ZWE</td>\n      <td>..</td>\n      <td>..</td>\n      <td>..</td>\n    </tr>\n  </tbody>\n</table>\n<p>266 rows × 4 columns</p>\n</div>"
     },
     "metadata": {},
     "execution_count": 102
    }
   ],
   "source": [
    "df_socioEconomics18 = df_pivot18[[\"CountryCode\", \"SI.DST.10TH.10\", \"SI.DST.50MD\", \"SL.UEM.TOTL.NE.ZS\"]]\n",
    "df_socioEconomics18.to_csv(\"../newdata/socioEconomics_2018.csv\", index=False)\n",
    "df_socioEconomics18"
   ]
  },
  {
   "cell_type": "markdown",
   "metadata": {},
   "source": [
    "### Education"
   ]
  },
  {
   "cell_type": "code",
   "execution_count": 103,
   "metadata": {
    "scrolled": true
   },
   "outputs": [
    {
     "output_type": "execute_result",
     "data": {
      "text/plain": [
       "    CountryCode GB.XPD.RSDV.GD.ZS    IP.JRN.ARTC.SC\n",
       "0           AFG                ..            111.72\n",
       "1           ALB                ..            180.36\n",
       "2           DZA                ..           5231.44\n",
       "3           ASM                ..                ..\n",
       "4           AND                ..               3.6\n",
       "..          ...               ...               ...\n",
       "261         PSE                ..            375.95\n",
       "262         WLD  2.27364007357421  2554373.36151358\n",
       "263         YEM                ..            137.44\n",
       "264         ZMB                ..            213.07\n",
       "265         ZWE                ..            359.33\n",
       "\n",
       "[266 rows x 3 columns]"
      ],
      "text/html": "<div>\n<style scoped>\n    .dataframe tbody tr th:only-of-type {\n        vertical-align: middle;\n    }\n\n    .dataframe tbody tr th {\n        vertical-align: top;\n    }\n\n    .dataframe thead th {\n        text-align: right;\n    }\n</style>\n<table border=\"1\" class=\"dataframe\">\n  <thead>\n    <tr style=\"text-align: right;\">\n      <th></th>\n      <th>CountryCode</th>\n      <th>GB.XPD.RSDV.GD.ZS</th>\n      <th>IP.JRN.ARTC.SC</th>\n    </tr>\n  </thead>\n  <tbody>\n    <tr>\n      <th>0</th>\n      <td>AFG</td>\n      <td>..</td>\n      <td>111.72</td>\n    </tr>\n    <tr>\n      <th>1</th>\n      <td>ALB</td>\n      <td>..</td>\n      <td>180.36</td>\n    </tr>\n    <tr>\n      <th>2</th>\n      <td>DZA</td>\n      <td>..</td>\n      <td>5231.44</td>\n    </tr>\n    <tr>\n      <th>3</th>\n      <td>ASM</td>\n      <td>..</td>\n      <td>..</td>\n    </tr>\n    <tr>\n      <th>4</th>\n      <td>AND</td>\n      <td>..</td>\n      <td>3.6</td>\n    </tr>\n    <tr>\n      <th>...</th>\n      <td>...</td>\n      <td>...</td>\n      <td>...</td>\n    </tr>\n    <tr>\n      <th>261</th>\n      <td>PSE</td>\n      <td>..</td>\n      <td>375.95</td>\n    </tr>\n    <tr>\n      <th>262</th>\n      <td>WLD</td>\n      <td>2.27364007357421</td>\n      <td>2554373.36151358</td>\n    </tr>\n    <tr>\n      <th>263</th>\n      <td>YEM</td>\n      <td>..</td>\n      <td>137.44</td>\n    </tr>\n    <tr>\n      <th>264</th>\n      <td>ZMB</td>\n      <td>..</td>\n      <td>213.07</td>\n    </tr>\n    <tr>\n      <th>265</th>\n      <td>ZWE</td>\n      <td>..</td>\n      <td>359.33</td>\n    </tr>\n  </tbody>\n</table>\n<p>266 rows × 3 columns</p>\n</div>"
     },
     "metadata": {},
     "execution_count": 103
    }
   ],
   "source": [
    "df_education18 = df_pivot18[[\"CountryCode\", \"GB.XPD.RSDV.GD.ZS\", \"IP.JRN.ARTC.SC\"]]\n",
    "df_education18.to_csv(\"../newdata/education_2018.csv\", index=False)\n",
    "df_education18"
   ]
  },
  {
   "cell_type": "markdown",
   "metadata": {},
   "source": [
    "### Geographics"
   ]
  },
  {
   "cell_type": "code",
   "execution_count": 104,
   "metadata": {},
   "outputs": [
    {
     "output_type": "execute_result",
     "data": {
      "text/plain": [
       "    CountryCode EN.URB.MCTY.TL.ZS EN.URB.MCTY EN.URB.LCTY.UR.ZS  \\\n",
       "0           AFG   10.792339238057     4011770  42.3311983623682   \n",
       "1           ALB                ..          ..  27.5063925379807   \n",
       "2           DZA  6.37850392208528     2693542  8.78230990288061   \n",
       "3           ASM                ..          ..                ..   \n",
       "4           AND                ..          ..                ..   \n",
       "..          ...               ...         ...               ...   \n",
       "261         PSE                ..          ..  19.3574193555803   \n",
       "262         WLD  24.0100202823131          ..  16.1122287366912   \n",
       "263         YEM  9.75243877024931     2779317  26.6154649528479   \n",
       "264         ZMB  14.5451238492419     2523844  33.4209340801511   \n",
       "265         ZWE  10.4925141031059     1515016  32.5763444910973   \n",
       "\n",
       "          EN.POP.DNST EN.POP.SLUM.UR.ZS    SP.RUR.TOTL.ZS  \\\n",
       "0     56.937760009803  70.6999969482422            74.505   \n",
       "1    104.612262773723                ..            39.681   \n",
       "2    17.7300750711665                ..            27.371   \n",
       "3             277.325                ..            12.847   \n",
       "4    163.842553191489                ..            11.938   \n",
       "..                ...               ...               ...   \n",
       "261  758.984551495017                ..            23.836   \n",
       "262  59.6178807531312  29.2445561511366  44.7295739607251   \n",
       "263  53.9778529083092  66.1999969482422            63.358   \n",
       "264  23.3414789007116  54.5999984741211            56.479   \n",
       "265  37.3245909267158              33.5            67.791   \n",
       "\n",
       "          SP.RUR.TOTL.ZG SP.URB.TOTL         SP.URB.GROW SP.URB.TOTL.IN.ZS  \n",
       "0       2.05646291237639     9477100    3.35038297624495            25.495  \n",
       "1      -2.57812110197857     1728969    1.31716210445698            60.319  \n",
       "2    -0.0787864813063178    30670086    2.80499567674668            72.629  \n",
       "3     -0.140232809406397       48339  -0.299515834872394            87.153  \n",
       "4      0.742442541306233       67813  -0.092859413109399            88.062  \n",
       "..                   ...         ...                 ...               ...  \n",
       "261     1.40670467907508     3479999    2.88811868523477            76.164  \n",
       "262    0.102531862340484  4195079805    1.92878651799617  55.2704260392749  \n",
       "263     1.37383409848097    10442489    4.08020880658667            36.642  \n",
       "264     1.95247167129333     7551686    4.17297037539389            43.521  \n",
       "265     1.45209278046374     4650663    1.32389222924462            32.209  \n",
       "\n",
       "[266 rows x 11 columns]"
      ],
      "text/html": "<div>\n<style scoped>\n    .dataframe tbody tr th:only-of-type {\n        vertical-align: middle;\n    }\n\n    .dataframe tbody tr th {\n        vertical-align: top;\n    }\n\n    .dataframe thead th {\n        text-align: right;\n    }\n</style>\n<table border=\"1\" class=\"dataframe\">\n  <thead>\n    <tr style=\"text-align: right;\">\n      <th></th>\n      <th>CountryCode</th>\n      <th>EN.URB.MCTY.TL.ZS</th>\n      <th>EN.URB.MCTY</th>\n      <th>EN.URB.LCTY.UR.ZS</th>\n      <th>EN.POP.DNST</th>\n      <th>EN.POP.SLUM.UR.ZS</th>\n      <th>SP.RUR.TOTL.ZS</th>\n      <th>SP.RUR.TOTL.ZG</th>\n      <th>SP.URB.TOTL</th>\n      <th>SP.URB.GROW</th>\n      <th>SP.URB.TOTL.IN.ZS</th>\n    </tr>\n  </thead>\n  <tbody>\n    <tr>\n      <th>0</th>\n      <td>AFG</td>\n      <td>10.792339238057</td>\n      <td>4011770</td>\n      <td>42.3311983623682</td>\n      <td>56.937760009803</td>\n      <td>70.6999969482422</td>\n      <td>74.505</td>\n      <td>2.05646291237639</td>\n      <td>9477100</td>\n      <td>3.35038297624495</td>\n      <td>25.495</td>\n    </tr>\n    <tr>\n      <th>1</th>\n      <td>ALB</td>\n      <td>..</td>\n      <td>..</td>\n      <td>27.5063925379807</td>\n      <td>104.612262773723</td>\n      <td>..</td>\n      <td>39.681</td>\n      <td>-2.57812110197857</td>\n      <td>1728969</td>\n      <td>1.31716210445698</td>\n      <td>60.319</td>\n    </tr>\n    <tr>\n      <th>2</th>\n      <td>DZA</td>\n      <td>6.37850392208528</td>\n      <td>2693542</td>\n      <td>8.78230990288061</td>\n      <td>17.7300750711665</td>\n      <td>..</td>\n      <td>27.371</td>\n      <td>-0.0787864813063178</td>\n      <td>30670086</td>\n      <td>2.80499567674668</td>\n      <td>72.629</td>\n    </tr>\n    <tr>\n      <th>3</th>\n      <td>ASM</td>\n      <td>..</td>\n      <td>..</td>\n      <td>..</td>\n      <td>277.325</td>\n      <td>..</td>\n      <td>12.847</td>\n      <td>-0.140232809406397</td>\n      <td>48339</td>\n      <td>-0.299515834872394</td>\n      <td>87.153</td>\n    </tr>\n    <tr>\n      <th>4</th>\n      <td>AND</td>\n      <td>..</td>\n      <td>..</td>\n      <td>..</td>\n      <td>163.842553191489</td>\n      <td>..</td>\n      <td>11.938</td>\n      <td>0.742442541306233</td>\n      <td>67813</td>\n      <td>-0.092859413109399</td>\n      <td>88.062</td>\n    </tr>\n    <tr>\n      <th>...</th>\n      <td>...</td>\n      <td>...</td>\n      <td>...</td>\n      <td>...</td>\n      <td>...</td>\n      <td>...</td>\n      <td>...</td>\n      <td>...</td>\n      <td>...</td>\n      <td>...</td>\n      <td>...</td>\n    </tr>\n    <tr>\n      <th>261</th>\n      <td>PSE</td>\n      <td>..</td>\n      <td>..</td>\n      <td>19.3574193555803</td>\n      <td>758.984551495017</td>\n      <td>..</td>\n      <td>23.836</td>\n      <td>1.40670467907508</td>\n      <td>3479999</td>\n      <td>2.88811868523477</td>\n      <td>76.164</td>\n    </tr>\n    <tr>\n      <th>262</th>\n      <td>WLD</td>\n      <td>24.0100202823131</td>\n      <td>..</td>\n      <td>16.1122287366912</td>\n      <td>59.6178807531312</td>\n      <td>29.2445561511366</td>\n      <td>44.7295739607251</td>\n      <td>0.102531862340484</td>\n      <td>4195079805</td>\n      <td>1.92878651799617</td>\n      <td>55.2704260392749</td>\n    </tr>\n    <tr>\n      <th>263</th>\n      <td>YEM</td>\n      <td>9.75243877024931</td>\n      <td>2779317</td>\n      <td>26.6154649528479</td>\n      <td>53.9778529083092</td>\n      <td>66.1999969482422</td>\n      <td>63.358</td>\n      <td>1.37383409848097</td>\n      <td>10442489</td>\n      <td>4.08020880658667</td>\n      <td>36.642</td>\n    </tr>\n    <tr>\n      <th>264</th>\n      <td>ZMB</td>\n      <td>14.5451238492419</td>\n      <td>2523844</td>\n      <td>33.4209340801511</td>\n      <td>23.3414789007116</td>\n      <td>54.5999984741211</td>\n      <td>56.479</td>\n      <td>1.95247167129333</td>\n      <td>7551686</td>\n      <td>4.17297037539389</td>\n      <td>43.521</td>\n    </tr>\n    <tr>\n      <th>265</th>\n      <td>ZWE</td>\n      <td>10.4925141031059</td>\n      <td>1515016</td>\n      <td>32.5763444910973</td>\n      <td>37.3245909267158</td>\n      <td>33.5</td>\n      <td>67.791</td>\n      <td>1.45209278046374</td>\n      <td>4650663</td>\n      <td>1.32389222924462</td>\n      <td>32.209</td>\n    </tr>\n  </tbody>\n</table>\n<p>266 rows × 11 columns</p>\n</div>"
     },
     "metadata": {},
     "execution_count": 104
    }
   ],
   "source": [
    "df_geographics18 = df_pivot18[[\"CountryCode\", \"EN.URB.MCTY.TL.ZS\", \"EN.URB.MCTY\", \"EN.URB.LCTY.UR.ZS\", \"EN.POP.DNST\", \"EN.POP.SLUM.UR.ZS\", \"SP.RUR.TOTL.ZS\", \"SP.RUR.TOTL.ZG\", \"SP.URB.TOTL\", \"SP.URB.GROW\", \"SP.URB.TOTL.IN.ZS\"]]\n",
    "df_geographics18.to_csv(\"../newdata/geographics_2018.csv\", index=False)\n",
    "df_geographics18"
   ]
  },
  {
   "cell_type": "markdown",
   "metadata": {},
   "source": [
    "## Tabela 2019"
   ]
  },
  {
   "cell_type": "code",
   "execution_count": 105,
   "metadata": {},
   "outputs": [],
   "source": [
    "df_total19 = df_total[[\"CountryName\", \"CountryCode\", \"SeriesCode\", \"Y2019\"]]\n",
    "df_total19 = df_total19[df_total19[\"CountryName\"].notnull()]\n",
    "\n",
    "new_columns = []\n",
    "for i in df_pivot19.columns:\n",
    "  new_columns.append(i.replace(\".\", \"\"))\n",
    "df_pivot19.columns = new_columns\n",
    "\n",
    "df_pivot19 = pivot_table(\"SeriesCode\", [\"CountryName\", \"CountryCode\"], \"Y2019\", df_total19)\n",
    "df_pivot19.to_csv(\"../newdata/total_2019.csv\", index=False)"
   ]
  },
  {
   "cell_type": "code",
   "execution_count": 106,
   "metadata": {},
   "outputs": [
    {
     "output_type": "execute_result",
     "data": {
      "text/plain": [
       "            CountryName CountryCode EN.POP.DNST EN.POP.SLUM.UR.ZS  \\\n",
       "0           Afghanistan         AFG          ..                ..   \n",
       "1               Albania         ALB          ..                ..   \n",
       "2               Algeria         DZA          ..                ..   \n",
       "3        American Samoa         ASM          ..                ..   \n",
       "4               Andorra         AND          ..                ..   \n",
       "..                  ...         ...         ...               ...   \n",
       "261  West Bank and Gaza         PSE          ..                ..   \n",
       "262               World         WLD          ..                ..   \n",
       "263         Yemen, Rep.         YEM          ..                ..   \n",
       "264              Zambia         ZMB          ..                ..   \n",
       "265            Zimbabwe         ZWE          ..                ..   \n",
       "\n",
       "    EN.URB.LCTY.UR.ZS EN.URB.MCTY EN.URB.MCTY.TL.ZS GB.XPD.RSDV.GD.ZS  \\\n",
       "0    41.9915827598149     4114030  10.8145118650418                ..   \n",
       "1    27.7309419298429          ..                ..                ..   \n",
       "2    8.66174655110584     2729325   6.3394457452426                ..   \n",
       "3                  ..          ..                ..                ..   \n",
       "4                  ..          ..                ..                ..   \n",
       "..                ...         ...               ...               ...   \n",
       "261  19.3587342326344          ..                ..                ..   \n",
       "262  16.0994179512369          ..  24.2163182191787                ..   \n",
       "263  26.4443343097945     2874373  9.85659655766174                ..   \n",
       "264  33.6218939892753     2646619  14.8178408524032                ..   \n",
       "265  32.2495789439097     1521311  10.3875888431834                ..   \n",
       "\n",
       "    IP.JRN.ARTC.SC    NY.GDP.MKTP.KN  ... SH.XPD.CHEX.PC.CD SI.DST.10TH.10  \\\n",
       "0               ..      530486628400  ...                ..             ..   \n",
       "1               ..     1545384540000  ...                ..             ..   \n",
       "2               ..  6172554003832.28  ...                ..             ..   \n",
       "3               ..                ..  ...                ..             ..   \n",
       "4               ..        2670100000  ...                ..             ..   \n",
       "..             ...               ...  ...               ...            ...   \n",
       "261             ..                ..  ...                ..             ..   \n",
       "262             ..                ..  ...                ..             ..   \n",
       "263             ..                ..  ...                ..             ..   \n",
       "264             ..      142070945900  ...                ..             ..   \n",
       "265             ..       18485280600  ...                ..             ..   \n",
       "\n",
       "    SI.DST.50MD SI.POV.GINI SL.UEM.TOTL.NE.ZS      SP.RUR.TOTL.ZG  \\\n",
       "0            ..          ..                ..    1.96358574692554   \n",
       "1            ..          ..  11.4654998779297   -2.74606661163753   \n",
       "2            ..          ..                ..   -0.13323063442144   \n",
       "3            ..          ..                ..  -0.238848023629824   \n",
       "4            ..          ..                ..    0.82331740120781   \n",
       "..          ...         ...               ...                 ...   \n",
       "261          ..          ..  25.3404006958008    1.34706676269918   \n",
       "262          ..          ..                ..  0.0721419431982895   \n",
       "263          ..          ..                ..    1.29966130332314   \n",
       "264          ..          ..                ..    1.91199588236161   \n",
       "265          ..          ..  16.8565998077393    1.41820521552295   \n",
       "\n",
       "       SP.RUR.TOTL.ZS         SP.URB.GROW SP.URB.TOTL SP.URB.TOTL.IN.ZS  \n",
       "0              74.246    3.32257193526388     9797273            25.754  \n",
       "1              38.771    1.07141354924368     1747593            61.229  \n",
       "2              26.811    2.70203471945637    31510100            73.189  \n",
       "3              12.853  -0.281742847595643       48203            87.147  \n",
       "4              12.016  0.0884394910466288       67873            87.984  \n",
       "..                ...                 ...         ...               ...  \n",
       "261             23.56    2.87351814806851     3581448             76.44  \n",
       "262  44.2857152845525    1.88682780016862  4274233737  55.7142847154475  \n",
       "263            62.727    4.00798539245142    10869523            37.273  \n",
       "264            55.928    4.15048511630338     7871713            44.072  \n",
       "265             67.79    1.42278718723626     4717305             32.21  \n",
       "\n",
       "[266 rows x 27 columns]"
      ],
      "text/html": "<div>\n<style scoped>\n    .dataframe tbody tr th:only-of-type {\n        vertical-align: middle;\n    }\n\n    .dataframe tbody tr th {\n        vertical-align: top;\n    }\n\n    .dataframe thead th {\n        text-align: right;\n    }\n</style>\n<table border=\"1\" class=\"dataframe\">\n  <thead>\n    <tr style=\"text-align: right;\">\n      <th></th>\n      <th>CountryName</th>\n      <th>CountryCode</th>\n      <th>EN.POP.DNST</th>\n      <th>EN.POP.SLUM.UR.ZS</th>\n      <th>EN.URB.LCTY.UR.ZS</th>\n      <th>EN.URB.MCTY</th>\n      <th>EN.URB.MCTY.TL.ZS</th>\n      <th>GB.XPD.RSDV.GD.ZS</th>\n      <th>IP.JRN.ARTC.SC</th>\n      <th>NY.GDP.MKTP.KN</th>\n      <th>...</th>\n      <th>SH.XPD.CHEX.PC.CD</th>\n      <th>SI.DST.10TH.10</th>\n      <th>SI.DST.50MD</th>\n      <th>SI.POV.GINI</th>\n      <th>SL.UEM.TOTL.NE.ZS</th>\n      <th>SP.RUR.TOTL.ZG</th>\n      <th>SP.RUR.TOTL.ZS</th>\n      <th>SP.URB.GROW</th>\n      <th>SP.URB.TOTL</th>\n      <th>SP.URB.TOTL.IN.ZS</th>\n    </tr>\n  </thead>\n  <tbody>\n    <tr>\n      <th>0</th>\n      <td>Afghanistan</td>\n      <td>AFG</td>\n      <td>..</td>\n      <td>..</td>\n      <td>41.9915827598149</td>\n      <td>4114030</td>\n      <td>10.8145118650418</td>\n      <td>..</td>\n      <td>..</td>\n      <td>530486628400</td>\n      <td>...</td>\n      <td>..</td>\n      <td>..</td>\n      <td>..</td>\n      <td>..</td>\n      <td>..</td>\n      <td>1.96358574692554</td>\n      <td>74.246</td>\n      <td>3.32257193526388</td>\n      <td>9797273</td>\n      <td>25.754</td>\n    </tr>\n    <tr>\n      <th>1</th>\n      <td>Albania</td>\n      <td>ALB</td>\n      <td>..</td>\n      <td>..</td>\n      <td>27.7309419298429</td>\n      <td>..</td>\n      <td>..</td>\n      <td>..</td>\n      <td>..</td>\n      <td>1545384540000</td>\n      <td>...</td>\n      <td>..</td>\n      <td>..</td>\n      <td>..</td>\n      <td>..</td>\n      <td>11.4654998779297</td>\n      <td>-2.74606661163753</td>\n      <td>38.771</td>\n      <td>1.07141354924368</td>\n      <td>1747593</td>\n      <td>61.229</td>\n    </tr>\n    <tr>\n      <th>2</th>\n      <td>Algeria</td>\n      <td>DZA</td>\n      <td>..</td>\n      <td>..</td>\n      <td>8.66174655110584</td>\n      <td>2729325</td>\n      <td>6.3394457452426</td>\n      <td>..</td>\n      <td>..</td>\n      <td>6172554003832.28</td>\n      <td>...</td>\n      <td>..</td>\n      <td>..</td>\n      <td>..</td>\n      <td>..</td>\n      <td>..</td>\n      <td>-0.13323063442144</td>\n      <td>26.811</td>\n      <td>2.70203471945637</td>\n      <td>31510100</td>\n      <td>73.189</td>\n    </tr>\n    <tr>\n      <th>3</th>\n      <td>American Samoa</td>\n      <td>ASM</td>\n      <td>..</td>\n      <td>..</td>\n      <td>..</td>\n      <td>..</td>\n      <td>..</td>\n      <td>..</td>\n      <td>..</td>\n      <td>..</td>\n      <td>...</td>\n      <td>..</td>\n      <td>..</td>\n      <td>..</td>\n      <td>..</td>\n      <td>..</td>\n      <td>-0.238848023629824</td>\n      <td>12.853</td>\n      <td>-0.281742847595643</td>\n      <td>48203</td>\n      <td>87.147</td>\n    </tr>\n    <tr>\n      <th>4</th>\n      <td>Andorra</td>\n      <td>AND</td>\n      <td>..</td>\n      <td>..</td>\n      <td>..</td>\n      <td>..</td>\n      <td>..</td>\n      <td>..</td>\n      <td>..</td>\n      <td>2670100000</td>\n      <td>...</td>\n      <td>..</td>\n      <td>..</td>\n      <td>..</td>\n      <td>..</td>\n      <td>..</td>\n      <td>0.82331740120781</td>\n      <td>12.016</td>\n      <td>0.0884394910466288</td>\n      <td>67873</td>\n      <td>87.984</td>\n    </tr>\n    <tr>\n      <th>...</th>\n      <td>...</td>\n      <td>...</td>\n      <td>...</td>\n      <td>...</td>\n      <td>...</td>\n      <td>...</td>\n      <td>...</td>\n      <td>...</td>\n      <td>...</td>\n      <td>...</td>\n      <td>...</td>\n      <td>...</td>\n      <td>...</td>\n      <td>...</td>\n      <td>...</td>\n      <td>...</td>\n      <td>...</td>\n      <td>...</td>\n      <td>...</td>\n      <td>...</td>\n      <td>...</td>\n    </tr>\n    <tr>\n      <th>261</th>\n      <td>West Bank and Gaza</td>\n      <td>PSE</td>\n      <td>..</td>\n      <td>..</td>\n      <td>19.3587342326344</td>\n      <td>..</td>\n      <td>..</td>\n      <td>..</td>\n      <td>..</td>\n      <td>..</td>\n      <td>...</td>\n      <td>..</td>\n      <td>..</td>\n      <td>..</td>\n      <td>..</td>\n      <td>25.3404006958008</td>\n      <td>1.34706676269918</td>\n      <td>23.56</td>\n      <td>2.87351814806851</td>\n      <td>3581448</td>\n      <td>76.44</td>\n    </tr>\n    <tr>\n      <th>262</th>\n      <td>World</td>\n      <td>WLD</td>\n      <td>..</td>\n      <td>..</td>\n      <td>16.0994179512369</td>\n      <td>..</td>\n      <td>24.2163182191787</td>\n      <td>..</td>\n      <td>..</td>\n      <td>..</td>\n      <td>...</td>\n      <td>..</td>\n      <td>..</td>\n      <td>..</td>\n      <td>..</td>\n      <td>..</td>\n      <td>0.0721419431982895</td>\n      <td>44.2857152845525</td>\n      <td>1.88682780016862</td>\n      <td>4274233737</td>\n      <td>55.7142847154475</td>\n    </tr>\n    <tr>\n      <th>263</th>\n      <td>Yemen, Rep.</td>\n      <td>YEM</td>\n      <td>..</td>\n      <td>..</td>\n      <td>26.4443343097945</td>\n      <td>2874373</td>\n      <td>9.85659655766174</td>\n      <td>..</td>\n      <td>..</td>\n      <td>..</td>\n      <td>...</td>\n      <td>..</td>\n      <td>..</td>\n      <td>..</td>\n      <td>..</td>\n      <td>..</td>\n      <td>1.29966130332314</td>\n      <td>62.727</td>\n      <td>4.00798539245142</td>\n      <td>10869523</td>\n      <td>37.273</td>\n    </tr>\n    <tr>\n      <th>264</th>\n      <td>Zambia</td>\n      <td>ZMB</td>\n      <td>..</td>\n      <td>..</td>\n      <td>33.6218939892753</td>\n      <td>2646619</td>\n      <td>14.8178408524032</td>\n      <td>..</td>\n      <td>..</td>\n      <td>142070945900</td>\n      <td>...</td>\n      <td>..</td>\n      <td>..</td>\n      <td>..</td>\n      <td>..</td>\n      <td>..</td>\n      <td>1.91199588236161</td>\n      <td>55.928</td>\n      <td>4.15048511630338</td>\n      <td>7871713</td>\n      <td>44.072</td>\n    </tr>\n    <tr>\n      <th>265</th>\n      <td>Zimbabwe</td>\n      <td>ZWE</td>\n      <td>..</td>\n      <td>..</td>\n      <td>32.2495789439097</td>\n      <td>1521311</td>\n      <td>10.3875888431834</td>\n      <td>..</td>\n      <td>..</td>\n      <td>18485280600</td>\n      <td>...</td>\n      <td>..</td>\n      <td>..</td>\n      <td>..</td>\n      <td>..</td>\n      <td>16.8565998077393</td>\n      <td>1.41820521552295</td>\n      <td>67.79</td>\n      <td>1.42278718723626</td>\n      <td>4717305</td>\n      <td>32.21</td>\n    </tr>\n  </tbody>\n</table>\n<p>266 rows × 27 columns</p>\n</div>"
     },
     "metadata": {},
     "execution_count": 106
    }
   ],
   "source": [
    "df_pivot19"
   ]
  },
  {
   "cell_type": "markdown",
   "metadata": {},
   "source": [
    "### Health"
   ]
  },
  {
   "cell_type": "code",
   "execution_count": 107,
   "metadata": {},
   "outputs": [
    {
     "output_type": "execute_result",
     "data": {
      "text/plain": [
       "    CountryCode SH.MED.CMHW.P3 SH.XPD.CHEX.GD.ZS SH.XPD.CHEX.PC.CD  \\\n",
       "0           AFG             ..                ..                ..   \n",
       "1           ALB             ..                ..                ..   \n",
       "2           DZA             ..                ..                ..   \n",
       "3           ASM             ..                ..                ..   \n",
       "4           AND             ..                ..                ..   \n",
       "..          ...            ...               ...               ...   \n",
       "261         PSE             ..                ..                ..   \n",
       "262         WLD             ..                ..                ..   \n",
       "263         YEM             ..                ..                ..   \n",
       "264         ZMB             ..                ..                ..   \n",
       "265         ZWE             ..                ..                ..   \n",
       "\n",
       "    SH.MED.BEDS.ZS SH.MED.NUMW.P3  \n",
       "0               ..             ..  \n",
       "1               ..             ..  \n",
       "2               ..             ..  \n",
       "3               ..             ..  \n",
       "4               ..             ..  \n",
       "..             ...            ...  \n",
       "261             ..             ..  \n",
       "262             ..             ..  \n",
       "263             ..             ..  \n",
       "264             ..             ..  \n",
       "265             ..             ..  \n",
       "\n",
       "[266 rows x 6 columns]"
      ],
      "text/html": "<div>\n<style scoped>\n    .dataframe tbody tr th:only-of-type {\n        vertical-align: middle;\n    }\n\n    .dataframe tbody tr th {\n        vertical-align: top;\n    }\n\n    .dataframe thead th {\n        text-align: right;\n    }\n</style>\n<table border=\"1\" class=\"dataframe\">\n  <thead>\n    <tr style=\"text-align: right;\">\n      <th></th>\n      <th>CountryCode</th>\n      <th>SH.MED.CMHW.P3</th>\n      <th>SH.XPD.CHEX.GD.ZS</th>\n      <th>SH.XPD.CHEX.PC.CD</th>\n      <th>SH.MED.BEDS.ZS</th>\n      <th>SH.MED.NUMW.P3</th>\n    </tr>\n  </thead>\n  <tbody>\n    <tr>\n      <th>0</th>\n      <td>AFG</td>\n      <td>..</td>\n      <td>..</td>\n      <td>..</td>\n      <td>..</td>\n      <td>..</td>\n    </tr>\n    <tr>\n      <th>1</th>\n      <td>ALB</td>\n      <td>..</td>\n      <td>..</td>\n      <td>..</td>\n      <td>..</td>\n      <td>..</td>\n    </tr>\n    <tr>\n      <th>2</th>\n      <td>DZA</td>\n      <td>..</td>\n      <td>..</td>\n      <td>..</td>\n      <td>..</td>\n      <td>..</td>\n    </tr>\n    <tr>\n      <th>3</th>\n      <td>ASM</td>\n      <td>..</td>\n      <td>..</td>\n      <td>..</td>\n      <td>..</td>\n      <td>..</td>\n    </tr>\n    <tr>\n      <th>4</th>\n      <td>AND</td>\n      <td>..</td>\n      <td>..</td>\n      <td>..</td>\n      <td>..</td>\n      <td>..</td>\n    </tr>\n    <tr>\n      <th>...</th>\n      <td>...</td>\n      <td>...</td>\n      <td>...</td>\n      <td>...</td>\n      <td>...</td>\n      <td>...</td>\n    </tr>\n    <tr>\n      <th>261</th>\n      <td>PSE</td>\n      <td>..</td>\n      <td>..</td>\n      <td>..</td>\n      <td>..</td>\n      <td>..</td>\n    </tr>\n    <tr>\n      <th>262</th>\n      <td>WLD</td>\n      <td>..</td>\n      <td>..</td>\n      <td>..</td>\n      <td>..</td>\n      <td>..</td>\n    </tr>\n    <tr>\n      <th>263</th>\n      <td>YEM</td>\n      <td>..</td>\n      <td>..</td>\n      <td>..</td>\n      <td>..</td>\n      <td>..</td>\n    </tr>\n    <tr>\n      <th>264</th>\n      <td>ZMB</td>\n      <td>..</td>\n      <td>..</td>\n      <td>..</td>\n      <td>..</td>\n      <td>..</td>\n    </tr>\n    <tr>\n      <th>265</th>\n      <td>ZWE</td>\n      <td>..</td>\n      <td>..</td>\n      <td>..</td>\n      <td>..</td>\n      <td>..</td>\n    </tr>\n  </tbody>\n</table>\n<p>266 rows × 6 columns</p>\n</div>"
     },
     "metadata": {},
     "execution_count": 107
    }
   ],
   "source": [
    "df_health19 = df_pivot19[[\"CountryCode\", \"SH.MED.CMHW.P3\", \"SH.XPD.CHEX.GD.ZS\", \"SH.XPD.CHEX.PC.CD\", \"SH.MED.BEDS.ZS\", \"SH.MED.NUMW.P3\"]]\n",
    "df_health19.to_csv(\"../newdata/health_2019.csv\", index=False)\n",
    "df_health19"
   ]
  },
  {
   "cell_type": "markdown",
   "metadata": {},
   "source": [
    "### Economics"
   ]
  },
  {
   "cell_type": "code",
   "execution_count": 108,
   "metadata": {},
   "outputs": [
    {
     "output_type": "execute_result",
     "data": {
      "text/plain": [
       "    CountryCode    NY.GDP.PCAP.KN    NY.GDP.MKTP.KN SI.POV.GINI  \\\n",
       "0           AFG  13944.8519750167      530486628400          ..   \n",
       "1           ALB  541443.981849848     1545384540000          ..   \n",
       "2           DZA  143370.874545445  6172554003832.28          ..   \n",
       "3           ASM                ..                ..          ..   \n",
       "4           AND  34612.7919939851        2670100000          ..   \n",
       "..          ...               ...               ...         ...   \n",
       "261         PSE                ..                ..          ..   \n",
       "262         WLD                ..                ..          ..   \n",
       "263         YEM                ..                ..          ..   \n",
       "264         ZMB  7954.24149111222      142070945900          ..   \n",
       "265         ZWE  1262.18435628004       18485280600          ..   \n",
       "\n",
       "    NY.GNP.MKTP.KN NY.GNP.PCAP.KN  \n",
       "0               ..             ..  \n",
       "1               ..             ..  \n",
       "2               ..             ..  \n",
       "3               ..             ..  \n",
       "4               ..             ..  \n",
       "..             ...            ...  \n",
       "261             ..             ..  \n",
       "262             ..             ..  \n",
       "263             ..             ..  \n",
       "264             ..             ..  \n",
       "265             ..             ..  \n",
       "\n",
       "[266 rows x 6 columns]"
      ],
      "text/html": "<div>\n<style scoped>\n    .dataframe tbody tr th:only-of-type {\n        vertical-align: middle;\n    }\n\n    .dataframe tbody tr th {\n        vertical-align: top;\n    }\n\n    .dataframe thead th {\n        text-align: right;\n    }\n</style>\n<table border=\"1\" class=\"dataframe\">\n  <thead>\n    <tr style=\"text-align: right;\">\n      <th></th>\n      <th>CountryCode</th>\n      <th>NY.GDP.PCAP.KN</th>\n      <th>NY.GDP.MKTP.KN</th>\n      <th>SI.POV.GINI</th>\n      <th>NY.GNP.MKTP.KN</th>\n      <th>NY.GNP.PCAP.KN</th>\n    </tr>\n  </thead>\n  <tbody>\n    <tr>\n      <th>0</th>\n      <td>AFG</td>\n      <td>13944.8519750167</td>\n      <td>530486628400</td>\n      <td>..</td>\n      <td>..</td>\n      <td>..</td>\n    </tr>\n    <tr>\n      <th>1</th>\n      <td>ALB</td>\n      <td>541443.981849848</td>\n      <td>1545384540000</td>\n      <td>..</td>\n      <td>..</td>\n      <td>..</td>\n    </tr>\n    <tr>\n      <th>2</th>\n      <td>DZA</td>\n      <td>143370.874545445</td>\n      <td>6172554003832.28</td>\n      <td>..</td>\n      <td>..</td>\n      <td>..</td>\n    </tr>\n    <tr>\n      <th>3</th>\n      <td>ASM</td>\n      <td>..</td>\n      <td>..</td>\n      <td>..</td>\n      <td>..</td>\n      <td>..</td>\n    </tr>\n    <tr>\n      <th>4</th>\n      <td>AND</td>\n      <td>34612.7919939851</td>\n      <td>2670100000</td>\n      <td>..</td>\n      <td>..</td>\n      <td>..</td>\n    </tr>\n    <tr>\n      <th>...</th>\n      <td>...</td>\n      <td>...</td>\n      <td>...</td>\n      <td>...</td>\n      <td>...</td>\n      <td>...</td>\n    </tr>\n    <tr>\n      <th>261</th>\n      <td>PSE</td>\n      <td>..</td>\n      <td>..</td>\n      <td>..</td>\n      <td>..</td>\n      <td>..</td>\n    </tr>\n    <tr>\n      <th>262</th>\n      <td>WLD</td>\n      <td>..</td>\n      <td>..</td>\n      <td>..</td>\n      <td>..</td>\n      <td>..</td>\n    </tr>\n    <tr>\n      <th>263</th>\n      <td>YEM</td>\n      <td>..</td>\n      <td>..</td>\n      <td>..</td>\n      <td>..</td>\n      <td>..</td>\n    </tr>\n    <tr>\n      <th>264</th>\n      <td>ZMB</td>\n      <td>7954.24149111222</td>\n      <td>142070945900</td>\n      <td>..</td>\n      <td>..</td>\n      <td>..</td>\n    </tr>\n    <tr>\n      <th>265</th>\n      <td>ZWE</td>\n      <td>1262.18435628004</td>\n      <td>18485280600</td>\n      <td>..</td>\n      <td>..</td>\n      <td>..</td>\n    </tr>\n  </tbody>\n</table>\n<p>266 rows × 6 columns</p>\n</div>"
     },
     "metadata": {},
     "execution_count": 108
    }
   ],
   "source": [
    "df_economics19 = df_pivot19[[\"CountryCode\", \"NY.GDP.PCAP.KN\", \"NY.GDP.MKTP.KN\", \"SI.POV.GINI\", \"NY.GNP.MKTP.KN\", \"NY.GNP.PCAP.KN\"]]\n",
    "df_economics19.to_csv(\"../newdata/economics_2019.csv\", index=False)\n",
    "df_economics19"
   ]
  },
  {
   "cell_type": "markdown",
   "metadata": {},
   "source": [
    "### Socioeconomics"
   ]
  },
  {
   "cell_type": "code",
   "execution_count": 109,
   "metadata": {},
   "outputs": [
    {
     "output_type": "execute_result",
     "data": {
      "text/plain": [
       "    CountryCode SI.DST.10TH.10 SI.DST.50MD SL.UEM.TOTL.NE.ZS\n",
       "0           AFG             ..          ..                ..\n",
       "1           ALB             ..          ..  11.4654998779297\n",
       "2           DZA             ..          ..                ..\n",
       "3           ASM             ..          ..                ..\n",
       "4           AND             ..          ..                ..\n",
       "..          ...            ...         ...               ...\n",
       "261         PSE             ..          ..  25.3404006958008\n",
       "262         WLD             ..          ..                ..\n",
       "263         YEM             ..          ..                ..\n",
       "264         ZMB             ..          ..                ..\n",
       "265         ZWE             ..          ..  16.8565998077393\n",
       "\n",
       "[266 rows x 4 columns]"
      ],
      "text/html": "<div>\n<style scoped>\n    .dataframe tbody tr th:only-of-type {\n        vertical-align: middle;\n    }\n\n    .dataframe tbody tr th {\n        vertical-align: top;\n    }\n\n    .dataframe thead th {\n        text-align: right;\n    }\n</style>\n<table border=\"1\" class=\"dataframe\">\n  <thead>\n    <tr style=\"text-align: right;\">\n      <th></th>\n      <th>CountryCode</th>\n      <th>SI.DST.10TH.10</th>\n      <th>SI.DST.50MD</th>\n      <th>SL.UEM.TOTL.NE.ZS</th>\n    </tr>\n  </thead>\n  <tbody>\n    <tr>\n      <th>0</th>\n      <td>AFG</td>\n      <td>..</td>\n      <td>..</td>\n      <td>..</td>\n    </tr>\n    <tr>\n      <th>1</th>\n      <td>ALB</td>\n      <td>..</td>\n      <td>..</td>\n      <td>11.4654998779297</td>\n    </tr>\n    <tr>\n      <th>2</th>\n      <td>DZA</td>\n      <td>..</td>\n      <td>..</td>\n      <td>..</td>\n    </tr>\n    <tr>\n      <th>3</th>\n      <td>ASM</td>\n      <td>..</td>\n      <td>..</td>\n      <td>..</td>\n    </tr>\n    <tr>\n      <th>4</th>\n      <td>AND</td>\n      <td>..</td>\n      <td>..</td>\n      <td>..</td>\n    </tr>\n    <tr>\n      <th>...</th>\n      <td>...</td>\n      <td>...</td>\n      <td>...</td>\n      <td>...</td>\n    </tr>\n    <tr>\n      <th>261</th>\n      <td>PSE</td>\n      <td>..</td>\n      <td>..</td>\n      <td>25.3404006958008</td>\n    </tr>\n    <tr>\n      <th>262</th>\n      <td>WLD</td>\n      <td>..</td>\n      <td>..</td>\n      <td>..</td>\n    </tr>\n    <tr>\n      <th>263</th>\n      <td>YEM</td>\n      <td>..</td>\n      <td>..</td>\n      <td>..</td>\n    </tr>\n    <tr>\n      <th>264</th>\n      <td>ZMB</td>\n      <td>..</td>\n      <td>..</td>\n      <td>..</td>\n    </tr>\n    <tr>\n      <th>265</th>\n      <td>ZWE</td>\n      <td>..</td>\n      <td>..</td>\n      <td>16.8565998077393</td>\n    </tr>\n  </tbody>\n</table>\n<p>266 rows × 4 columns</p>\n</div>"
     },
     "metadata": {},
     "execution_count": 109
    }
   ],
   "source": [
    "df_socioEconomics19 = df_pivot19[[\"CountryCode\", \"SI.DST.10TH.10\", \"SI.DST.50MD\", \"SL.UEM.TOTL.NE.ZS\"]]\n",
    "df_socioEconomics19.to_csv(\"../newdata/socioEconomics_2019.csv\", index=False)\n",
    "df_socioEconomics19"
   ]
  },
  {
   "cell_type": "markdown",
   "metadata": {},
   "source": [
    "### Education"
   ]
  },
  {
   "cell_type": "code",
   "execution_count": 110,
   "metadata": {},
   "outputs": [
    {
     "output_type": "execute_result",
     "data": {
      "text/plain": [
       "    CountryCode GB.XPD.RSDV.GD.ZS IP.JRN.ARTC.SC\n",
       "0           AFG                ..             ..\n",
       "1           ALB                ..             ..\n",
       "2           DZA                ..             ..\n",
       "3           ASM                ..             ..\n",
       "4           AND                ..             ..\n",
       "..          ...               ...            ...\n",
       "261         PSE                ..             ..\n",
       "262         WLD                ..             ..\n",
       "263         YEM                ..             ..\n",
       "264         ZMB                ..             ..\n",
       "265         ZWE                ..             ..\n",
       "\n",
       "[266 rows x 3 columns]"
      ],
      "text/html": "<div>\n<style scoped>\n    .dataframe tbody tr th:only-of-type {\n        vertical-align: middle;\n    }\n\n    .dataframe tbody tr th {\n        vertical-align: top;\n    }\n\n    .dataframe thead th {\n        text-align: right;\n    }\n</style>\n<table border=\"1\" class=\"dataframe\">\n  <thead>\n    <tr style=\"text-align: right;\">\n      <th></th>\n      <th>CountryCode</th>\n      <th>GB.XPD.RSDV.GD.ZS</th>\n      <th>IP.JRN.ARTC.SC</th>\n    </tr>\n  </thead>\n  <tbody>\n    <tr>\n      <th>0</th>\n      <td>AFG</td>\n      <td>..</td>\n      <td>..</td>\n    </tr>\n    <tr>\n      <th>1</th>\n      <td>ALB</td>\n      <td>..</td>\n      <td>..</td>\n    </tr>\n    <tr>\n      <th>2</th>\n      <td>DZA</td>\n      <td>..</td>\n      <td>..</td>\n    </tr>\n    <tr>\n      <th>3</th>\n      <td>ASM</td>\n      <td>..</td>\n      <td>..</td>\n    </tr>\n    <tr>\n      <th>4</th>\n      <td>AND</td>\n      <td>..</td>\n      <td>..</td>\n    </tr>\n    <tr>\n      <th>...</th>\n      <td>...</td>\n      <td>...</td>\n      <td>...</td>\n    </tr>\n    <tr>\n      <th>261</th>\n      <td>PSE</td>\n      <td>..</td>\n      <td>..</td>\n    </tr>\n    <tr>\n      <th>262</th>\n      <td>WLD</td>\n      <td>..</td>\n      <td>..</td>\n    </tr>\n    <tr>\n      <th>263</th>\n      <td>YEM</td>\n      <td>..</td>\n      <td>..</td>\n    </tr>\n    <tr>\n      <th>264</th>\n      <td>ZMB</td>\n      <td>..</td>\n      <td>..</td>\n    </tr>\n    <tr>\n      <th>265</th>\n      <td>ZWE</td>\n      <td>..</td>\n      <td>..</td>\n    </tr>\n  </tbody>\n</table>\n<p>266 rows × 3 columns</p>\n</div>"
     },
     "metadata": {},
     "execution_count": 110
    }
   ],
   "source": [
    "df_education19 = df_pivot19[[\"CountryCode\", \"GB.XPD.RSDV.GD.ZS\", \"IP.JRN.ARTC.SC\"]]\n",
    "df_education19.to_csv(\"../newdata/education_2019.csv\", index=False)\n",
    "df_education19"
   ]
  },
  {
   "cell_type": "markdown",
   "metadata": {},
   "source": [
    "### Geographics"
   ]
  },
  {
   "cell_type": "code",
   "execution_count": 111,
   "metadata": {},
   "outputs": [
    {
     "output_type": "execute_result",
     "data": {
      "text/plain": [
       "    CountryCode EN.URB.MCTY.TL.ZS EN.URB.MCTY EN.URB.LCTY.UR.ZS EN.POP.DNST  \\\n",
       "0           AFG  10.8145118650418     4114030  41.9915827598149          ..   \n",
       "1           ALB                ..          ..  27.7309419298429          ..   \n",
       "2           DZA   6.3394457452426     2729325  8.66174655110584          ..   \n",
       "3           ASM                ..          ..                ..          ..   \n",
       "4           AND                ..          ..                ..          ..   \n",
       "..          ...               ...         ...               ...         ...   \n",
       "261         PSE                ..          ..  19.3587342326344          ..   \n",
       "262         WLD  24.2163182191787          ..  16.0994179512369          ..   \n",
       "263         YEM  9.85659655766174     2874373  26.4443343097945          ..   \n",
       "264         ZMB  14.8178408524032     2646619  33.6218939892753          ..   \n",
       "265         ZWE  10.3875888431834     1521311  32.2495789439097          ..   \n",
       "\n",
       "    EN.POP.SLUM.UR.ZS    SP.RUR.TOTL.ZS      SP.RUR.TOTL.ZG SP.URB.TOTL  \\\n",
       "0                  ..            74.246    1.96358574692554     9797273   \n",
       "1                  ..            38.771   -2.74606661163753     1747593   \n",
       "2                  ..            26.811   -0.13323063442144    31510100   \n",
       "3                  ..            12.853  -0.238848023629824       48203   \n",
       "4                  ..            12.016    0.82331740120781       67873   \n",
       "..                ...               ...                 ...         ...   \n",
       "261                ..             23.56    1.34706676269918     3581448   \n",
       "262                ..  44.2857152845525  0.0721419431982895  4274233737   \n",
       "263                ..            62.727    1.29966130332314    10869523   \n",
       "264                ..            55.928    1.91199588236161     7871713   \n",
       "265                ..             67.79    1.41820521552295     4717305   \n",
       "\n",
       "            SP.URB.GROW SP.URB.TOTL.IN.ZS  \n",
       "0      3.32257193526388            25.754  \n",
       "1      1.07141354924368            61.229  \n",
       "2      2.70203471945637            73.189  \n",
       "3    -0.281742847595643            87.147  \n",
       "4    0.0884394910466288            87.984  \n",
       "..                  ...               ...  \n",
       "261    2.87351814806851             76.44  \n",
       "262    1.88682780016862  55.7142847154475  \n",
       "263    4.00798539245142            37.273  \n",
       "264    4.15048511630338            44.072  \n",
       "265    1.42278718723626             32.21  \n",
       "\n",
       "[266 rows x 11 columns]"
      ],
      "text/html": "<div>\n<style scoped>\n    .dataframe tbody tr th:only-of-type {\n        vertical-align: middle;\n    }\n\n    .dataframe tbody tr th {\n        vertical-align: top;\n    }\n\n    .dataframe thead th {\n        text-align: right;\n    }\n</style>\n<table border=\"1\" class=\"dataframe\">\n  <thead>\n    <tr style=\"text-align: right;\">\n      <th></th>\n      <th>CountryCode</th>\n      <th>EN.URB.MCTY.TL.ZS</th>\n      <th>EN.URB.MCTY</th>\n      <th>EN.URB.LCTY.UR.ZS</th>\n      <th>EN.POP.DNST</th>\n      <th>EN.POP.SLUM.UR.ZS</th>\n      <th>SP.RUR.TOTL.ZS</th>\n      <th>SP.RUR.TOTL.ZG</th>\n      <th>SP.URB.TOTL</th>\n      <th>SP.URB.GROW</th>\n      <th>SP.URB.TOTL.IN.ZS</th>\n    </tr>\n  </thead>\n  <tbody>\n    <tr>\n      <th>0</th>\n      <td>AFG</td>\n      <td>10.8145118650418</td>\n      <td>4114030</td>\n      <td>41.9915827598149</td>\n      <td>..</td>\n      <td>..</td>\n      <td>74.246</td>\n      <td>1.96358574692554</td>\n      <td>9797273</td>\n      <td>3.32257193526388</td>\n      <td>25.754</td>\n    </tr>\n    <tr>\n      <th>1</th>\n      <td>ALB</td>\n      <td>..</td>\n      <td>..</td>\n      <td>27.7309419298429</td>\n      <td>..</td>\n      <td>..</td>\n      <td>38.771</td>\n      <td>-2.74606661163753</td>\n      <td>1747593</td>\n      <td>1.07141354924368</td>\n      <td>61.229</td>\n    </tr>\n    <tr>\n      <th>2</th>\n      <td>DZA</td>\n      <td>6.3394457452426</td>\n      <td>2729325</td>\n      <td>8.66174655110584</td>\n      <td>..</td>\n      <td>..</td>\n      <td>26.811</td>\n      <td>-0.13323063442144</td>\n      <td>31510100</td>\n      <td>2.70203471945637</td>\n      <td>73.189</td>\n    </tr>\n    <tr>\n      <th>3</th>\n      <td>ASM</td>\n      <td>..</td>\n      <td>..</td>\n      <td>..</td>\n      <td>..</td>\n      <td>..</td>\n      <td>12.853</td>\n      <td>-0.238848023629824</td>\n      <td>48203</td>\n      <td>-0.281742847595643</td>\n      <td>87.147</td>\n    </tr>\n    <tr>\n      <th>4</th>\n      <td>AND</td>\n      <td>..</td>\n      <td>..</td>\n      <td>..</td>\n      <td>..</td>\n      <td>..</td>\n      <td>12.016</td>\n      <td>0.82331740120781</td>\n      <td>67873</td>\n      <td>0.0884394910466288</td>\n      <td>87.984</td>\n    </tr>\n    <tr>\n      <th>...</th>\n      <td>...</td>\n      <td>...</td>\n      <td>...</td>\n      <td>...</td>\n      <td>...</td>\n      <td>...</td>\n      <td>...</td>\n      <td>...</td>\n      <td>...</td>\n      <td>...</td>\n      <td>...</td>\n    </tr>\n    <tr>\n      <th>261</th>\n      <td>PSE</td>\n      <td>..</td>\n      <td>..</td>\n      <td>19.3587342326344</td>\n      <td>..</td>\n      <td>..</td>\n      <td>23.56</td>\n      <td>1.34706676269918</td>\n      <td>3581448</td>\n      <td>2.87351814806851</td>\n      <td>76.44</td>\n    </tr>\n    <tr>\n      <th>262</th>\n      <td>WLD</td>\n      <td>24.2163182191787</td>\n      <td>..</td>\n      <td>16.0994179512369</td>\n      <td>..</td>\n      <td>..</td>\n      <td>44.2857152845525</td>\n      <td>0.0721419431982895</td>\n      <td>4274233737</td>\n      <td>1.88682780016862</td>\n      <td>55.7142847154475</td>\n    </tr>\n    <tr>\n      <th>263</th>\n      <td>YEM</td>\n      <td>9.85659655766174</td>\n      <td>2874373</td>\n      <td>26.4443343097945</td>\n      <td>..</td>\n      <td>..</td>\n      <td>62.727</td>\n      <td>1.29966130332314</td>\n      <td>10869523</td>\n      <td>4.00798539245142</td>\n      <td>37.273</td>\n    </tr>\n    <tr>\n      <th>264</th>\n      <td>ZMB</td>\n      <td>14.8178408524032</td>\n      <td>2646619</td>\n      <td>33.6218939892753</td>\n      <td>..</td>\n      <td>..</td>\n      <td>55.928</td>\n      <td>1.91199588236161</td>\n      <td>7871713</td>\n      <td>4.15048511630338</td>\n      <td>44.072</td>\n    </tr>\n    <tr>\n      <th>265</th>\n      <td>ZWE</td>\n      <td>10.3875888431834</td>\n      <td>1521311</td>\n      <td>32.2495789439097</td>\n      <td>..</td>\n      <td>..</td>\n      <td>67.79</td>\n      <td>1.41820521552295</td>\n      <td>4717305</td>\n      <td>1.42278718723626</td>\n      <td>32.21</td>\n    </tr>\n  </tbody>\n</table>\n<p>266 rows × 11 columns</p>\n</div>"
     },
     "metadata": {},
     "execution_count": 111
    }
   ],
   "source": [
    "df_geographics19 = df_pivot19[[\"CountryCode\", \"EN.URB.MCTY.TL.ZS\", \"EN.URB.MCTY\", \"EN.URB.LCTY.UR.ZS\", \"EN.POP.DNST\", \"EN.POP.SLUM.UR.ZS\", \"SP.RUR.TOTL.ZS\", \"SP.RUR.TOTL.ZG\", \"SP.URB.TOTL\", \"SP.URB.GROW\", \"SP.URB.TOTL.IN.ZS\"]]\n",
    "df_geographics19.to_csv(\"../newdata/geographics_2019.csv\", index=False)\n",
    "df_geographics19"
   ]
  },
  {
   "cell_type": "code",
   "execution_count": null,
   "metadata": {},
   "outputs": [],
   "source": []
  }
 ],
 "metadata": {
  "kernelspec": {
   "display_name": "Python 3",
   "language": "python",
   "name": "python3"
  },
  "language_info": {
   "codemirror_mode": {
    "name": "ipython",
    "version": 3
   },
   "file_extension": ".py",
   "mimetype": "text/x-python",
   "name": "python",
   "nbconvert_exporter": "python",
   "pygments_lexer": "ipython3",
   "version": "3.7.6-final"
  },
  "toc": {
   "base_numbering": 1,
   "nav_menu": {},
   "number_sections": false,
   "sideBar": false,
   "skip_h1_title": false,
   "title_cell": "Table of Contents",
   "title_sidebar": "Contents",
   "toc_cell": false,
   "toc_position": {},
   "toc_section_display": false,
   "toc_window_display": false
  }
 },
 "nbformat": 4,
 "nbformat_minor": 4
}